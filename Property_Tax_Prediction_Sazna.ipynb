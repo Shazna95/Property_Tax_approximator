{
  "nbformat": 4,
  "nbformat_minor": 0,
  "metadata": {
    "colab": {
      "name": "Property_Tax_Prediction.ipynb",
      "provenance": [],
      "collapsed_sections": []
    },
    "kernelspec": {
      "name": "python3",
      "display_name": "Python 3"
    },
    "language_info": {
      "name": "python"
    }
  },
  "cells": [
    {
      "cell_type": "markdown",
      "metadata": {
        "id": "5eanwjugWR0P"
      },
      "source": [
        "#PREDICTION OF PROPERTY TAX USING KNN CLASSIFICATION & LINEAR REGRESSION"
      ]
    },
    {
      "cell_type": "markdown",
      "metadata": {
        "id": "AL0OU9UfWh9l"
      },
      "source": [
        "##***LIBRARY IMPORTS AND DATA LOADING***"
      ]
    },
    {
      "cell_type": "code",
      "metadata": {
        "id": "WQrh_gxSNdQt"
      },
      "source": [
        "import numpy as np\n",
        "import pandas as pd\n",
        "import matplotlib.pyplot as plt\n",
        "import seaborn as sns\n",
        "\n",
        "%matplotlib inline"
      ],
      "execution_count": null,
      "outputs": []
    },
    {
      "cell_type": "code",
      "metadata": {
        "colab": {
          "base_uri": "https://localhost:8080/"
        },
        "id": "D164-cGcNfpa",
        "outputId": "b64d50c6-ede5-44fb-a07f-ffb384a28001"
      },
      "source": [
        "from google.colab import drive\n",
        "drive.mount('/content/drive')"
      ],
      "execution_count": null,
      "outputs": [
        {
          "output_type": "stream",
          "text": [
            "Mounted at /content/drive\n"
          ],
          "name": "stdout"
        }
      ]
    },
    {
      "cell_type": "code",
      "metadata": {
        "id": "_J89wfxBNiAL"
      },
      "source": [
        "data = pd.read_csv(\"/content/drive/MyDrive/raw_house_data.csv\")"
      ],
      "execution_count": null,
      "outputs": []
    },
    {
      "cell_type": "markdown",
      "metadata": {
        "id": "oJJjByJ_Wqrg"
      },
      "source": [
        "##***EXPLORATORY DATA ANALYSIS***"
      ]
    },
    {
      "cell_type": "code",
      "metadata": {
        "id": "oPOYtwjtNsaQ",
        "colab": {
          "base_uri": "https://localhost:8080/",
          "height": 553
        },
        "outputId": "5c213d64-204b-4aa4-e530-26a7dda2d2c8"
      },
      "source": [
        "#Read the data\n",
        "data"
      ],
      "execution_count": null,
      "outputs": [
        {
          "output_type": "execute_result",
          "data": {
            "text/html": [
              "<div>\n",
              "<style scoped>\n",
              "    .dataframe tbody tr th:only-of-type {\n",
              "        vertical-align: middle;\n",
              "    }\n",
              "\n",
              "    .dataframe tbody tr th {\n",
              "        vertical-align: top;\n",
              "    }\n",
              "\n",
              "    .dataframe thead th {\n",
              "        text-align: right;\n",
              "    }\n",
              "</style>\n",
              "<table border=\"1\" class=\"dataframe\">\n",
              "  <thead>\n",
              "    <tr style=\"text-align: right;\">\n",
              "      <th></th>\n",
              "      <th>MLS</th>\n",
              "      <th>sold_price</th>\n",
              "      <th>zipcode</th>\n",
              "      <th>longitude</th>\n",
              "      <th>latitude</th>\n",
              "      <th>lot_acres</th>\n",
              "      <th>taxes</th>\n",
              "      <th>year_built</th>\n",
              "      <th>bedrooms</th>\n",
              "      <th>bathrooms</th>\n",
              "      <th>sqrt_ft</th>\n",
              "      <th>garage</th>\n",
              "      <th>kitchen_features</th>\n",
              "      <th>fireplaces</th>\n",
              "      <th>floor_covering</th>\n",
              "      <th>HOA</th>\n",
              "    </tr>\n",
              "  </thead>\n",
              "  <tbody>\n",
              "    <tr>\n",
              "      <th>0</th>\n",
              "      <td>21530491</td>\n",
              "      <td>5300000.0</td>\n",
              "      <td>85637</td>\n",
              "      <td>-110.378200</td>\n",
              "      <td>31.356362</td>\n",
              "      <td>2154.00</td>\n",
              "      <td>5272.00</td>\n",
              "      <td>1941</td>\n",
              "      <td>13</td>\n",
              "      <td>10</td>\n",
              "      <td>10500</td>\n",
              "      <td>0</td>\n",
              "      <td>Dishwasher, Freezer, Refrigerator, Oven</td>\n",
              "      <td>6</td>\n",
              "      <td>Mexican Tile, Wood</td>\n",
              "      <td>0</td>\n",
              "    </tr>\n",
              "    <tr>\n",
              "      <th>1</th>\n",
              "      <td>21529082</td>\n",
              "      <td>4200000.0</td>\n",
              "      <td>85646</td>\n",
              "      <td>-111.045371</td>\n",
              "      <td>31.594213</td>\n",
              "      <td>1707.00</td>\n",
              "      <td>10422.36</td>\n",
              "      <td>1997</td>\n",
              "      <td>2</td>\n",
              "      <td>2</td>\n",
              "      <td>7300</td>\n",
              "      <td>0</td>\n",
              "      <td>Dishwasher, Garbage Disposal</td>\n",
              "      <td>5</td>\n",
              "      <td>Natural Stone, Other</td>\n",
              "      <td>0</td>\n",
              "    </tr>\n",
              "    <tr>\n",
              "      <th>2</th>\n",
              "      <td>3054672</td>\n",
              "      <td>4200000.0</td>\n",
              "      <td>85646</td>\n",
              "      <td>-111.040707</td>\n",
              "      <td>31.594844</td>\n",
              "      <td>1707.00</td>\n",
              "      <td>10482.00</td>\n",
              "      <td>1997</td>\n",
              "      <td>2</td>\n",
              "      <td>3</td>\n",
              "      <td>None</td>\n",
              "      <td>None</td>\n",
              "      <td>Dishwasher, Garbage Disposal, Refrigerator</td>\n",
              "      <td>5</td>\n",
              "      <td>Natural Stone, Other: Rock</td>\n",
              "      <td>None</td>\n",
              "    </tr>\n",
              "    <tr>\n",
              "      <th>3</th>\n",
              "      <td>21919321</td>\n",
              "      <td>4500000.0</td>\n",
              "      <td>85646</td>\n",
              "      <td>-111.035925</td>\n",
              "      <td>31.645878</td>\n",
              "      <td>636.67</td>\n",
              "      <td>8418.58</td>\n",
              "      <td>1930</td>\n",
              "      <td>7</td>\n",
              "      <td>5</td>\n",
              "      <td>9019</td>\n",
              "      <td>4</td>\n",
              "      <td>Dishwasher, Double Sink, Pantry: Butler, Refri...</td>\n",
              "      <td>4</td>\n",
              "      <td>Ceramic Tile, Laminate, Wood</td>\n",
              "      <td>None</td>\n",
              "    </tr>\n",
              "    <tr>\n",
              "      <th>4</th>\n",
              "      <td>21306357</td>\n",
              "      <td>3411450.0</td>\n",
              "      <td>85750</td>\n",
              "      <td>-110.813768</td>\n",
              "      <td>32.285162</td>\n",
              "      <td>3.21</td>\n",
              "      <td>15393.00</td>\n",
              "      <td>1995</td>\n",
              "      <td>4</td>\n",
              "      <td>6</td>\n",
              "      <td>6396</td>\n",
              "      <td>3</td>\n",
              "      <td>Dishwasher, Garbage Disposal, Refrigerator, Mi...</td>\n",
              "      <td>5</td>\n",
              "      <td>Carpet, Concrete</td>\n",
              "      <td>55</td>\n",
              "    </tr>\n",
              "    <tr>\n",
              "      <th>...</th>\n",
              "      <td>...</td>\n",
              "      <td>...</td>\n",
              "      <td>...</td>\n",
              "      <td>...</td>\n",
              "      <td>...</td>\n",
              "      <td>...</td>\n",
              "      <td>...</td>\n",
              "      <td>...</td>\n",
              "      <td>...</td>\n",
              "      <td>...</td>\n",
              "      <td>...</td>\n",
              "      <td>...</td>\n",
              "      <td>...</td>\n",
              "      <td>...</td>\n",
              "      <td>...</td>\n",
              "      <td>...</td>\n",
              "    </tr>\n",
              "    <tr>\n",
              "      <th>4995</th>\n",
              "      <td>21810382</td>\n",
              "      <td>495000.0</td>\n",
              "      <td>85641</td>\n",
              "      <td>-110.661829</td>\n",
              "      <td>31.907917</td>\n",
              "      <td>4.98</td>\n",
              "      <td>2017.00</td>\n",
              "      <td>2005</td>\n",
              "      <td>5</td>\n",
              "      <td>3</td>\n",
              "      <td>3601</td>\n",
              "      <td>3</td>\n",
              "      <td>Dishwasher, Double Sink, Garbage Disposal, Gas...</td>\n",
              "      <td>1</td>\n",
              "      <td>Carpet, Ceramic Tile</td>\n",
              "      <td>None</td>\n",
              "    </tr>\n",
              "    <tr>\n",
              "      <th>4996</th>\n",
              "      <td>21908591</td>\n",
              "      <td>550000.0</td>\n",
              "      <td>85750</td>\n",
              "      <td>-110.858556</td>\n",
              "      <td>32.316373</td>\n",
              "      <td>1.42</td>\n",
              "      <td>4822.01</td>\n",
              "      <td>1990</td>\n",
              "      <td>4</td>\n",
              "      <td>3</td>\n",
              "      <td>2318</td>\n",
              "      <td>3</td>\n",
              "      <td>Dishwasher, Double Sink, Electric Range, Garba...</td>\n",
              "      <td>1</td>\n",
              "      <td>Carpet, Ceramic Tile</td>\n",
              "      <td>43</td>\n",
              "    </tr>\n",
              "    <tr>\n",
              "      <th>4997</th>\n",
              "      <td>21832452</td>\n",
              "      <td>475000.0</td>\n",
              "      <td>85192</td>\n",
              "      <td>-110.755428</td>\n",
              "      <td>32.964708</td>\n",
              "      <td>12.06</td>\n",
              "      <td>1000.00</td>\n",
              "      <td>1969</td>\n",
              "      <td>3</td>\n",
              "      <td>2</td>\n",
              "      <td>1772</td>\n",
              "      <td>0</td>\n",
              "      <td>Dishwasher, Electric Range, Island, Refrigerat...</td>\n",
              "      <td>0</td>\n",
              "      <td>Ceramic Tile</td>\n",
              "      <td>None</td>\n",
              "    </tr>\n",
              "    <tr>\n",
              "      <th>4998</th>\n",
              "      <td>21900515</td>\n",
              "      <td>550000.0</td>\n",
              "      <td>85745</td>\n",
              "      <td>-111.055528</td>\n",
              "      <td>32.296871</td>\n",
              "      <td>1.01</td>\n",
              "      <td>5822.93</td>\n",
              "      <td>2009</td>\n",
              "      <td>4</td>\n",
              "      <td>4</td>\n",
              "      <td>3724</td>\n",
              "      <td>3</td>\n",
              "      <td>Dishwasher, Double Sink, Garbage Disposal, Gas...</td>\n",
              "      <td>1</td>\n",
              "      <td>Carpet, Ceramic Tile</td>\n",
              "      <td>None</td>\n",
              "    </tr>\n",
              "    <tr>\n",
              "      <th>4999</th>\n",
              "      <td>4111490</td>\n",
              "      <td>450000.0</td>\n",
              "      <td>85621</td>\n",
              "      <td>-110.913054</td>\n",
              "      <td>31.385259</td>\n",
              "      <td>4.16</td>\n",
              "      <td>2814.48</td>\n",
              "      <td>1988</td>\n",
              "      <td>4</td>\n",
              "      <td>4</td>\n",
              "      <td>4317</td>\n",
              "      <td>None</td>\n",
              "      <td>Compactor, Dishwasher, Double Sink, Island, Ap...</td>\n",
              "      <td>3</td>\n",
              "      <td>Carpet, Mexican Tile</td>\n",
              "      <td>None</td>\n",
              "    </tr>\n",
              "  </tbody>\n",
              "</table>\n",
              "<p>5000 rows × 16 columns</p>\n",
              "</div>"
            ],
            "text/plain": [
              "           MLS  sold_price  ...                floor_covering   HOA\n",
              "0     21530491   5300000.0  ...            Mexican Tile, Wood     0\n",
              "1     21529082   4200000.0  ...          Natural Stone, Other     0\n",
              "2      3054672   4200000.0  ...    Natural Stone, Other: Rock  None\n",
              "3     21919321   4500000.0  ...  Ceramic Tile, Laminate, Wood  None\n",
              "4     21306357   3411450.0  ...              Carpet, Concrete    55\n",
              "...        ...         ...  ...                           ...   ...\n",
              "4995  21810382    495000.0  ...          Carpet, Ceramic Tile  None\n",
              "4996  21908591    550000.0  ...          Carpet, Ceramic Tile    43\n",
              "4997  21832452    475000.0  ...                  Ceramic Tile  None\n",
              "4998  21900515    550000.0  ...          Carpet, Ceramic Tile  None\n",
              "4999   4111490    450000.0  ...          Carpet, Mexican Tile  None\n",
              "\n",
              "[5000 rows x 16 columns]"
            ]
          },
          "metadata": {
            "tags": []
          },
          "execution_count": 4
        }
      ]
    },
    {
      "cell_type": "code",
      "metadata": {
        "id": "28ufoMasN0h1",
        "colab": {
          "base_uri": "https://localhost:8080/"
        },
        "outputId": "4f804600-c1a3-4bd3-bfdf-dc53aaff49a2"
      },
      "source": [
        "#View information about the data\n",
        "data.info()"
      ],
      "execution_count": null,
      "outputs": [
        {
          "output_type": "stream",
          "text": [
            "<class 'pandas.core.frame.DataFrame'>\n",
            "RangeIndex: 5000 entries, 0 to 4999\n",
            "Data columns (total 16 columns):\n",
            " #   Column            Non-Null Count  Dtype  \n",
            "---  ------            --------------  -----  \n",
            " 0   MLS               5000 non-null   int64  \n",
            " 1   sold_price        5000 non-null   float64\n",
            " 2   zipcode           5000 non-null   int64  \n",
            " 3   longitude         5000 non-null   float64\n",
            " 4   latitude          5000 non-null   float64\n",
            " 5   lot_acres         4990 non-null   float64\n",
            " 6   taxes             5000 non-null   float64\n",
            " 7   year_built        5000 non-null   int64  \n",
            " 8   bedrooms          5000 non-null   int64  \n",
            " 9   bathrooms         5000 non-null   object \n",
            " 10  sqrt_ft           5000 non-null   object \n",
            " 11  garage            5000 non-null   object \n",
            " 12  kitchen_features  5000 non-null   object \n",
            " 13  fireplaces        5000 non-null   object \n",
            " 14  floor_covering    5000 non-null   object \n",
            " 15  HOA               5000 non-null   object \n",
            "dtypes: float64(5), int64(4), object(7)\n",
            "memory usage: 625.1+ KB\n"
          ],
          "name": "stdout"
        }
      ]
    },
    {
      "cell_type": "code",
      "metadata": {
        "id": "D3KE3yq1OFBO",
        "colab": {
          "base_uri": "https://localhost:8080/"
        },
        "outputId": "2dad19e4-d392-4a8c-d2f1-f502c9a8ce30"
      },
      "source": [
        "#to check if MLS column is an identifier\n",
        "len(set(data['MLS']))"
      ],
      "execution_count": null,
      "outputs": [
        {
          "output_type": "execute_result",
          "data": {
            "text/plain": [
              "5000"
            ]
          },
          "metadata": {
            "tags": []
          },
          "execution_count": 6
        }
      ]
    },
    {
      "cell_type": "code",
      "metadata": {
        "id": "NupK_CgU9rHZ"
      },
      "source": [
        "#remove identifier column\n",
        "data = data.drop(columns=['MLS'])"
      ],
      "execution_count": null,
      "outputs": []
    },
    {
      "cell_type": "code",
      "metadata": {
        "id": "jjdz5jM9NhNZ",
        "colab": {
          "base_uri": "https://localhost:8080/"
        },
        "outputId": "a8095075-4ce4-47e2-ee47-56e103969e43"
      },
      "source": [
        "#View size of dataset\n",
        "data.shape"
      ],
      "execution_count": null,
      "outputs": [
        {
          "output_type": "execute_result",
          "data": {
            "text/plain": [
              "(5000, 15)"
            ]
          },
          "metadata": {
            "tags": []
          },
          "execution_count": 8
        }
      ]
    },
    {
      "cell_type": "code",
      "metadata": {
        "id": "9_idTDT5OKI0"
      },
      "source": [
        "#replace all None values with 0\n",
        "data = data.replace(['None'], 0)"
      ],
      "execution_count": null,
      "outputs": []
    },
    {
      "cell_type": "code",
      "metadata": {
        "id": "bUaV0EZCBeBN",
        "colab": {
          "base_uri": "https://localhost:8080/"
        },
        "outputId": "71d4670b-67fa-4c16-81bc-8ced75b1791f"
      },
      "source": [
        "#view number of duplicate rows based on all columns\n",
        "duplicateRowsDF = data[data.duplicated()]\n",
        "duplicateRowsDF.shape"
      ],
      "execution_count": null,
      "outputs": [
        {
          "output_type": "execute_result",
          "data": {
            "text/plain": [
              "(0, 15)"
            ]
          },
          "metadata": {
            "tags": []
          },
          "execution_count": 10
        }
      ]
    },
    {
      "cell_type": "code",
      "metadata": {
        "id": "1GA5AzrP_Xx1",
        "colab": {
          "base_uri": "https://localhost:8080/"
        },
        "outputId": "570da8ed-286c-4e0f-ccfa-2595d56a43e8"
      },
      "source": [
        "#View size of dataset\n",
        "data.shape"
      ],
      "execution_count": null,
      "outputs": [
        {
          "output_type": "execute_result",
          "data": {
            "text/plain": [
              "(5000, 15)"
            ]
          },
          "metadata": {
            "tags": []
          },
          "execution_count": 11
        }
      ]
    },
    {
      "cell_type": "code",
      "metadata": {
        "id": "6kYCFWA25k8M",
        "colab": {
          "base_uri": "https://localhost:8080/"
        },
        "outputId": "a222a4ac-0adc-4209-8bbf-1640881abc45"
      },
      "source": [
        "#View information about the data\n",
        "data.info()"
      ],
      "execution_count": null,
      "outputs": [
        {
          "output_type": "stream",
          "text": [
            "<class 'pandas.core.frame.DataFrame'>\n",
            "RangeIndex: 5000 entries, 0 to 4999\n",
            "Data columns (total 15 columns):\n",
            " #   Column            Non-Null Count  Dtype  \n",
            "---  ------            --------------  -----  \n",
            " 0   sold_price        5000 non-null   float64\n",
            " 1   zipcode           5000 non-null   int64  \n",
            " 2   longitude         5000 non-null   float64\n",
            " 3   latitude          5000 non-null   float64\n",
            " 4   lot_acres         4990 non-null   float64\n",
            " 5   taxes             5000 non-null   float64\n",
            " 6   year_built        5000 non-null   int64  \n",
            " 7   bedrooms          5000 non-null   int64  \n",
            " 8   bathrooms         5000 non-null   object \n",
            " 9   sqrt_ft           5000 non-null   object \n",
            " 10  garage            5000 non-null   object \n",
            " 11  kitchen_features  5000 non-null   object \n",
            " 12  fireplaces        5000 non-null   object \n",
            " 13  floor_covering    5000 non-null   object \n",
            " 14  HOA               5000 non-null   object \n",
            "dtypes: float64(5), int64(3), object(7)\n",
            "memory usage: 586.1+ KB\n"
          ],
          "name": "stdout"
        }
      ]
    },
    {
      "cell_type": "code",
      "metadata": {
        "id": "BK7pTDvb0SXs"
      },
      "source": [
        "#create copy of data before manipulation\n",
        "data_copy = data"
      ],
      "execution_count": null,
      "outputs": []
    },
    {
      "cell_type": "code",
      "metadata": {
        "id": "TwxZzeVk1V0X",
        "colab": {
          "base_uri": "https://localhost:8080/"
        },
        "outputId": "59c28f41-deee-45bd-eabd-c12c8e133a2a"
      },
      "source": [
        "#Count the number of occurrences of each value in the 'bedrooms' column\n",
        "data['bedrooms'].value_counts()"
      ],
      "execution_count": null,
      "outputs": [
        {
          "output_type": "execute_result",
          "data": {
            "text/plain": [
              "4     2388\n",
              "3     1406\n",
              "5      869\n",
              "2      164\n",
              "6      114\n",
              "7       32\n",
              "8        8\n",
              "1        4\n",
              "10       3\n",
              "9        3\n",
              "36       3\n",
              "11       2\n",
              "13       2\n",
              "19       1\n",
              "18       1\n",
              "Name: bedrooms, dtype: int64"
            ]
          },
          "metadata": {
            "tags": []
          },
          "execution_count": 14
        }
      ]
    },
    {
      "cell_type": "code",
      "metadata": {
        "id": "332hnTS2UOPC",
        "colab": {
          "base_uri": "https://localhost:8080/"
        },
        "outputId": "3c48d16c-02ae-45bd-a8f9-47edfd9fabe8"
      },
      "source": [
        "#Count the number of occurrences of each value in the 'fireplace' column\n",
        "data['fireplaces'].value_counts()"
      ],
      "execution_count": null,
      "outputs": [
        {
          "output_type": "execute_result",
          "data": {
            "text/plain": [
              "1    1806\n",
              "2    1604\n",
              "3     849\n",
              "0     303\n",
              "4     294\n",
              "5      89\n",
              "       25\n",
              "6      18\n",
              "7       9\n",
              "9       2\n",
              "8       1\n",
              "Name: fireplaces, dtype: int64"
            ]
          },
          "metadata": {
            "tags": []
          },
          "execution_count": 15
        }
      ]
    },
    {
      "cell_type": "code",
      "metadata": {
        "id": "mH-T6pCQA_Sm"
      },
      "source": [
        "#removing blank values from fireplaces\n",
        "data['fireplaces'] = data['fireplaces'].replace(' ', np.nan)"
      ],
      "execution_count": null,
      "outputs": []
    },
    {
      "cell_type": "code",
      "metadata": {
        "id": "4E8QdCOPBFCG",
        "colab": {
          "base_uri": "https://localhost:8080/"
        },
        "outputId": "0e9cf6e2-65a3-479d-e0f2-07fc6ef6750e"
      },
      "source": [
        "#unique values of fireplaces\n",
        "set(data.fireplaces)"
      ],
      "execution_count": null,
      "outputs": [
        {
          "output_type": "execute_result",
          "data": {
            "text/plain": [
              "{'0', '1', '2', '3', '4', '5', '6', '7', '8', '9', nan}"
            ]
          },
          "metadata": {
            "tags": []
          },
          "execution_count": 17
        }
      ]
    },
    {
      "cell_type": "code",
      "metadata": {
        "id": "VDpHJ2wcBN2z",
        "colab": {
          "base_uri": "https://localhost:8080/",
          "height": 1000
        },
        "outputId": "c3bbc620-399f-47c3-93fb-ffb400e8cf91"
      },
      "source": [
        "#view a sub-dataset where fireplace values are null\n",
        "d_temp = data[data['fireplaces'].isnull()]\n",
        "d_temp"
      ],
      "execution_count": null,
      "outputs": [
        {
          "output_type": "execute_result",
          "data": {
            "text/html": [
              "<div>\n",
              "<style scoped>\n",
              "    .dataframe tbody tr th:only-of-type {\n",
              "        vertical-align: middle;\n",
              "    }\n",
              "\n",
              "    .dataframe tbody tr th {\n",
              "        vertical-align: top;\n",
              "    }\n",
              "\n",
              "    .dataframe thead th {\n",
              "        text-align: right;\n",
              "    }\n",
              "</style>\n",
              "<table border=\"1\" class=\"dataframe\">\n",
              "  <thead>\n",
              "    <tr style=\"text-align: right;\">\n",
              "      <th></th>\n",
              "      <th>sold_price</th>\n",
              "      <th>zipcode</th>\n",
              "      <th>longitude</th>\n",
              "      <th>latitude</th>\n",
              "      <th>lot_acres</th>\n",
              "      <th>taxes</th>\n",
              "      <th>year_built</th>\n",
              "      <th>bedrooms</th>\n",
              "      <th>bathrooms</th>\n",
              "      <th>sqrt_ft</th>\n",
              "      <th>garage</th>\n",
              "      <th>kitchen_features</th>\n",
              "      <th>fireplaces</th>\n",
              "      <th>floor_covering</th>\n",
              "      <th>HOA</th>\n",
              "    </tr>\n",
              "  </thead>\n",
              "  <tbody>\n",
              "    <tr>\n",
              "      <th>967</th>\n",
              "      <td>695000.0</td>\n",
              "      <td>85645</td>\n",
              "      <td>-111.183593</td>\n",
              "      <td>31.702330</td>\n",
              "      <td>NaN</td>\n",
              "      <td>2480.58</td>\n",
              "      <td>1932</td>\n",
              "      <td>4</td>\n",
              "      <td>4</td>\n",
              "      <td>0</td>\n",
              "      <td>2</td>\n",
              "      <td>Dishwasher, Double Sink, Gas Range, Refrigerat...</td>\n",
              "      <td>NaN</td>\n",
              "      <td>Ceramic Tile</td>\n",
              "      <td>0</td>\n",
              "    </tr>\n",
              "    <tr>\n",
              "      <th>1659</th>\n",
              "      <td>700000.0</td>\n",
              "      <td>85646</td>\n",
              "      <td>-111.046366</td>\n",
              "      <td>31.623839</td>\n",
              "      <td>NaN</td>\n",
              "      <td>6740.66</td>\n",
              "      <td>2007</td>\n",
              "      <td>3</td>\n",
              "      <td>4</td>\n",
              "      <td>0</td>\n",
              "      <td>3</td>\n",
              "      <td>Dishwasher, Double Sink, Freezer, Garbage Disp...</td>\n",
              "      <td>NaN</td>\n",
              "      <td>Natural Stone</td>\n",
              "      <td>157</td>\n",
              "    </tr>\n",
              "    <tr>\n",
              "      <th>1729</th>\n",
              "      <td>675000.0</td>\n",
              "      <td>85629</td>\n",
              "      <td>-110.961128</td>\n",
              "      <td>31.869810</td>\n",
              "      <td>1.02</td>\n",
              "      <td>4662.64</td>\n",
              "      <td>2007</td>\n",
              "      <td>3</td>\n",
              "      <td>4</td>\n",
              "      <td>0</td>\n",
              "      <td>3</td>\n",
              "      <td>Desk, Dishwasher, Garbage Disposal, Gas Range,...</td>\n",
              "      <td>NaN</td>\n",
              "      <td>Carpet, Mexican Tile, Wood, Other: Tile-Other</td>\n",
              "      <td>149.5</td>\n",
              "    </tr>\n",
              "    <tr>\n",
              "      <th>1730</th>\n",
              "      <td>700000.0</td>\n",
              "      <td>85645</td>\n",
              "      <td>-111.239637</td>\n",
              "      <td>31.662369</td>\n",
              "      <td>172.76</td>\n",
              "      <td>7501.42</td>\n",
              "      <td>2000</td>\n",
              "      <td>3</td>\n",
              "      <td>3</td>\n",
              "      <td>0</td>\n",
              "      <td>2</td>\n",
              "      <td>Dishwasher, Electric Range, Garbage Disposal, ...</td>\n",
              "      <td>NaN</td>\n",
              "      <td>Carpet, Ceramic Tile, Mexican Tile</td>\n",
              "      <td>0</td>\n",
              "    </tr>\n",
              "    <tr>\n",
              "      <th>1863</th>\n",
              "      <td>750000.0</td>\n",
              "      <td>85622</td>\n",
              "      <td>-111.002640</td>\n",
              "      <td>31.846861</td>\n",
              "      <td>4.58</td>\n",
              "      <td>4578.00</td>\n",
              "      <td>1977</td>\n",
              "      <td>5</td>\n",
              "      <td>4</td>\n",
              "      <td>0</td>\n",
              "      <td>4</td>\n",
              "      <td>Dishwasher, Double Sink, Garbage Disposal, Gas...</td>\n",
              "      <td>NaN</td>\n",
              "      <td>Natural Stone, Other: Travertine &amp; Slate</td>\n",
              "      <td>0</td>\n",
              "    </tr>\n",
              "    <tr>\n",
              "      <th>2025</th>\n",
              "      <td>660000.0</td>\n",
              "      <td>85614</td>\n",
              "      <td>-110.969465</td>\n",
              "      <td>31.836723</td>\n",
              "      <td>3.60</td>\n",
              "      <td>5526.00</td>\n",
              "      <td>2007</td>\n",
              "      <td>3</td>\n",
              "      <td>0</td>\n",
              "      <td>0</td>\n",
              "      <td>3</td>\n",
              "      <td>Desk, Dishwasher, Garbage Disposal, Gas Range,...</td>\n",
              "      <td>NaN</td>\n",
              "      <td>Carpet, Other: Tile-Other</td>\n",
              "      <td>1,000</td>\n",
              "    </tr>\n",
              "    <tr>\n",
              "      <th>2357</th>\n",
              "      <td>690000.0</td>\n",
              "      <td>85646</td>\n",
              "      <td>-111.052693</td>\n",
              "      <td>31.630004</td>\n",
              "      <td>1.85</td>\n",
              "      <td>4884.00</td>\n",
              "      <td>1997</td>\n",
              "      <td>3</td>\n",
              "      <td>4</td>\n",
              "      <td>0</td>\n",
              "      <td>3</td>\n",
              "      <td>Dishwasher, Double Sink, Garbage Disposal, Gas...</td>\n",
              "      <td>NaN</td>\n",
              "      <td>Ceramic Tile</td>\n",
              "      <td>21</td>\n",
              "    </tr>\n",
              "    <tr>\n",
              "      <th>2635</th>\n",
              "      <td>650000.0</td>\n",
              "      <td>85646</td>\n",
              "      <td>-111.043573</td>\n",
              "      <td>31.633469</td>\n",
              "      <td>0.90</td>\n",
              "      <td>4235.00</td>\n",
              "      <td>1985</td>\n",
              "      <td>3</td>\n",
              "      <td>3</td>\n",
              "      <td>0</td>\n",
              "      <td>2.5</td>\n",
              "      <td>Dishwasher, Electric Range, Garbage Disposal, ...</td>\n",
              "      <td>NaN</td>\n",
              "      <td>Carpet, Ceramic Tile</td>\n",
              "      <td>22</td>\n",
              "    </tr>\n",
              "    <tr>\n",
              "      <th>2766</th>\n",
              "      <td>575000.0</td>\n",
              "      <td>85614</td>\n",
              "      <td>-110.960497</td>\n",
              "      <td>31.854446</td>\n",
              "      <td>0.87</td>\n",
              "      <td>4623.05</td>\n",
              "      <td>2002</td>\n",
              "      <td>3</td>\n",
              "      <td>0</td>\n",
              "      <td>0</td>\n",
              "      <td>3</td>\n",
              "      <td>Dishwasher, Garbage Disposal, Gas Range, Islan...</td>\n",
              "      <td>NaN</td>\n",
              "      <td>Carpet, Other</td>\n",
              "      <td>250</td>\n",
              "    </tr>\n",
              "    <tr>\n",
              "      <th>2876</th>\n",
              "      <td>560100.0</td>\n",
              "      <td>85646</td>\n",
              "      <td>-111.050957</td>\n",
              "      <td>31.626585</td>\n",
              "      <td>0.78</td>\n",
              "      <td>4716.00</td>\n",
              "      <td>1999</td>\n",
              "      <td>3</td>\n",
              "      <td>3</td>\n",
              "      <td>0</td>\n",
              "      <td>2.5</td>\n",
              "      <td>Dishwasher, Double Sink, Garbage Disposal, Ref...</td>\n",
              "      <td>NaN</td>\n",
              "      <td>Carpet, Mexican Tile</td>\n",
              "      <td>21</td>\n",
              "    </tr>\n",
              "    <tr>\n",
              "      <th>2917</th>\n",
              "      <td>580000.0</td>\n",
              "      <td>85629</td>\n",
              "      <td>-110.941544</td>\n",
              "      <td>31.879379</td>\n",
              "      <td>0.27</td>\n",
              "      <td>765.87</td>\n",
              "      <td>2014</td>\n",
              "      <td>2</td>\n",
              "      <td>3</td>\n",
              "      <td>0</td>\n",
              "      <td>3</td>\n",
              "      <td>Dishwasher, Garbage Disposal, Gas Range, Islan...</td>\n",
              "      <td>NaN</td>\n",
              "      <td>Ceramic Tile, Wood</td>\n",
              "      <td>148</td>\n",
              "    </tr>\n",
              "    <tr>\n",
              "      <th>2932</th>\n",
              "      <td>625000.0</td>\n",
              "      <td>85614</td>\n",
              "      <td>-110.960215</td>\n",
              "      <td>31.857286</td>\n",
              "      <td>0.97</td>\n",
              "      <td>5518.75</td>\n",
              "      <td>2007</td>\n",
              "      <td>3</td>\n",
              "      <td>3</td>\n",
              "      <td>0</td>\n",
              "      <td>3</td>\n",
              "      <td>Dishwasher, Double Sink, Garbage Disposal, Gas...</td>\n",
              "      <td>NaN</td>\n",
              "      <td>Carpet, Other: Porcelain Tile</td>\n",
              "      <td>16.66</td>\n",
              "    </tr>\n",
              "    <tr>\n",
              "      <th>2939</th>\n",
              "      <td>655000.0</td>\n",
              "      <td>85614</td>\n",
              "      <td>-110.971212</td>\n",
              "      <td>31.835117</td>\n",
              "      <td>NaN</td>\n",
              "      <td>6433.00</td>\n",
              "      <td>2001</td>\n",
              "      <td>3</td>\n",
              "      <td>4</td>\n",
              "      <td>0</td>\n",
              "      <td>3</td>\n",
              "      <td>Dishwasher, Double Sink, Electric Range, Garba...</td>\n",
              "      <td>NaN</td>\n",
              "      <td>Carpet, Ceramic Tile</td>\n",
              "      <td>83.33</td>\n",
              "    </tr>\n",
              "    <tr>\n",
              "      <th>3108</th>\n",
              "      <td>610000.0</td>\n",
              "      <td>85614</td>\n",
              "      <td>-111.002544</td>\n",
              "      <td>31.840061</td>\n",
              "      <td>1.70</td>\n",
              "      <td>3800.00</td>\n",
              "      <td>2007</td>\n",
              "      <td>3</td>\n",
              "      <td>0</td>\n",
              "      <td>0</td>\n",
              "      <td>3</td>\n",
              "      <td>0</td>\n",
              "      <td>NaN</td>\n",
              "      <td>0</td>\n",
              "      <td>1,200</td>\n",
              "    </tr>\n",
              "    <tr>\n",
              "      <th>3420</th>\n",
              "      <td>605000.0</td>\n",
              "      <td>85622</td>\n",
              "      <td>-111.009941</td>\n",
              "      <td>31.839620</td>\n",
              "      <td>NaN</td>\n",
              "      <td>6134.56</td>\n",
              "      <td>2012</td>\n",
              "      <td>4</td>\n",
              "      <td>4</td>\n",
              "      <td>0</td>\n",
              "      <td>2</td>\n",
              "      <td>Compactor, Dishwasher, Double Sink, Garbage Di...</td>\n",
              "      <td>NaN</td>\n",
              "      <td>Carpet, Ceramic Tile</td>\n",
              "      <td>85</td>\n",
              "    </tr>\n",
              "    <tr>\n",
              "      <th>3529</th>\n",
              "      <td>535000.0</td>\n",
              "      <td>85614</td>\n",
              "      <td>-110.986426</td>\n",
              "      <td>31.806614</td>\n",
              "      <td>4.27</td>\n",
              "      <td>3826.25</td>\n",
              "      <td>2006</td>\n",
              "      <td>2</td>\n",
              "      <td>0</td>\n",
              "      <td>0</td>\n",
              "      <td>3</td>\n",
              "      <td>Dishwasher, Garbage Disposal, Gas Range, Islan...</td>\n",
              "      <td>NaN</td>\n",
              "      <td>Carpet, Other: Tile-Other</td>\n",
              "      <td>0</td>\n",
              "    </tr>\n",
              "    <tr>\n",
              "      <th>3556</th>\n",
              "      <td>624900.0</td>\n",
              "      <td>85614</td>\n",
              "      <td>-110.943269</td>\n",
              "      <td>31.880472</td>\n",
              "      <td>0.25</td>\n",
              "      <td>302.26</td>\n",
              "      <td>2013</td>\n",
              "      <td>3</td>\n",
              "      <td>4</td>\n",
              "      <td>0</td>\n",
              "      <td>3</td>\n",
              "      <td>Dishwasher, Electric Range, Garbage Disposal, ...</td>\n",
              "      <td>NaN</td>\n",
              "      <td>Ceramic Tile</td>\n",
              "      <td>158</td>\n",
              "    </tr>\n",
              "    <tr>\n",
              "      <th>3647</th>\n",
              "      <td>606000.0</td>\n",
              "      <td>85614</td>\n",
              "      <td>-110.970832</td>\n",
              "      <td>31.842606</td>\n",
              "      <td>1.54</td>\n",
              "      <td>2016.00</td>\n",
              "      <td>2003</td>\n",
              "      <td>3</td>\n",
              "      <td>3</td>\n",
              "      <td>0</td>\n",
              "      <td>3</td>\n",
              "      <td>Dishwasher, Garbage Disposal, Gas Range, Islan...</td>\n",
              "      <td>NaN</td>\n",
              "      <td>Carpet, Ceramic Tile</td>\n",
              "      <td>83</td>\n",
              "    </tr>\n",
              "    <tr>\n",
              "      <th>3822</th>\n",
              "      <td>550000.0</td>\n",
              "      <td>85614</td>\n",
              "      <td>-111.008754</td>\n",
              "      <td>31.841141</td>\n",
              "      <td>0.99</td>\n",
              "      <td>3702.07</td>\n",
              "      <td>2007</td>\n",
              "      <td>2</td>\n",
              "      <td>0</td>\n",
              "      <td>0</td>\n",
              "      <td>3</td>\n",
              "      <td>Dishwasher, Garbage Disposal, Island, Lazy Sus...</td>\n",
              "      <td>NaN</td>\n",
              "      <td>Carpet, Other: Tile-Other</td>\n",
              "      <td>1,200</td>\n",
              "    </tr>\n",
              "    <tr>\n",
              "      <th>4173</th>\n",
              "      <td>550000.0</td>\n",
              "      <td>85614</td>\n",
              "      <td>-110.940656</td>\n",
              "      <td>31.878329</td>\n",
              "      <td>NaN</td>\n",
              "      <td>5630.10</td>\n",
              "      <td>2013</td>\n",
              "      <td>3</td>\n",
              "      <td>4</td>\n",
              "      <td>0</td>\n",
              "      <td>3</td>\n",
              "      <td>Dishwasher, Double Sink, Electric Range, Garba...</td>\n",
              "      <td>NaN</td>\n",
              "      <td>Carpet, Ceramic Tile</td>\n",
              "      <td>158</td>\n",
              "    </tr>\n",
              "    <tr>\n",
              "      <th>4286</th>\n",
              "      <td>584165.0</td>\n",
              "      <td>85622</td>\n",
              "      <td>-111.039164</td>\n",
              "      <td>31.790671</td>\n",
              "      <td>NaN</td>\n",
              "      <td>653.47</td>\n",
              "      <td>2012</td>\n",
              "      <td>2</td>\n",
              "      <td>2</td>\n",
              "      <td>0</td>\n",
              "      <td>3</td>\n",
              "      <td>Dishwasher, Double Sink, Pantry: Closet, Count...</td>\n",
              "      <td>NaN</td>\n",
              "      <td>Ceramic Tile</td>\n",
              "      <td>0</td>\n",
              "    </tr>\n",
              "    <tr>\n",
              "      <th>4365</th>\n",
              "      <td>545000.0</td>\n",
              "      <td>85614</td>\n",
              "      <td>-110.978688</td>\n",
              "      <td>31.832598</td>\n",
              "      <td>NaN</td>\n",
              "      <td>4817.00</td>\n",
              "      <td>2001</td>\n",
              "      <td>3</td>\n",
              "      <td>3</td>\n",
              "      <td>0</td>\n",
              "      <td>3</td>\n",
              "      <td>Dishwasher, Double Sink, Garbage Disposal, Gas...</td>\n",
              "      <td>NaN</td>\n",
              "      <td>Carpet, Other: Travertine</td>\n",
              "      <td>33.33</td>\n",
              "    </tr>\n",
              "    <tr>\n",
              "      <th>4724</th>\n",
              "      <td>510000.0</td>\n",
              "      <td>85646</td>\n",
              "      <td>-111.091642</td>\n",
              "      <td>31.582936</td>\n",
              "      <td>7.00</td>\n",
              "      <td>4405.70</td>\n",
              "      <td>1995</td>\n",
              "      <td>3</td>\n",
              "      <td>3</td>\n",
              "      <td>0</td>\n",
              "      <td>2</td>\n",
              "      <td>Compactor, Dishwasher, Double Sink, Electric R...</td>\n",
              "      <td>NaN</td>\n",
              "      <td>Natural Stone, Wood</td>\n",
              "      <td>150</td>\n",
              "    </tr>\n",
              "    <tr>\n",
              "      <th>4783</th>\n",
              "      <td>530000.0</td>\n",
              "      <td>85622</td>\n",
              "      <td>-111.009020</td>\n",
              "      <td>31.839576</td>\n",
              "      <td>NaN</td>\n",
              "      <td>5264.34</td>\n",
              "      <td>2009</td>\n",
              "      <td>3</td>\n",
              "      <td>4</td>\n",
              "      <td>0</td>\n",
              "      <td>2</td>\n",
              "      <td>Dishwasher, Double Sink, Garbage Disposal, Gas...</td>\n",
              "      <td>NaN</td>\n",
              "      <td>Ceramic Tile</td>\n",
              "      <td>85</td>\n",
              "    </tr>\n",
              "    <tr>\n",
              "      <th>4812</th>\n",
              "      <td>500000.0</td>\n",
              "      <td>85646</td>\n",
              "      <td>-111.051431</td>\n",
              "      <td>31.636207</td>\n",
              "      <td>1.03</td>\n",
              "      <td>8102.00</td>\n",
              "      <td>1999</td>\n",
              "      <td>4</td>\n",
              "      <td>0</td>\n",
              "      <td>0</td>\n",
              "      <td>2</td>\n",
              "      <td>Dishwasher, Electric Range, Garbage Disposal, ...</td>\n",
              "      <td>NaN</td>\n",
              "      <td>Carpet, Mexican Tile</td>\n",
              "      <td>250</td>\n",
              "    </tr>\n",
              "  </tbody>\n",
              "</table>\n",
              "</div>"
            ],
            "text/plain": [
              "      sold_price  zipcode  ...                                 floor_covering    HOA\n",
              "967     695000.0    85645  ...                                   Ceramic Tile      0\n",
              "1659    700000.0    85646  ...                                  Natural Stone    157\n",
              "1729    675000.0    85629  ...  Carpet, Mexican Tile, Wood, Other: Tile-Other  149.5\n",
              "1730    700000.0    85645  ...             Carpet, Ceramic Tile, Mexican Tile      0\n",
              "1863    750000.0    85622  ...       Natural Stone, Other: Travertine & Slate      0\n",
              "2025    660000.0    85614  ...                      Carpet, Other: Tile-Other  1,000\n",
              "2357    690000.0    85646  ...                                   Ceramic Tile     21\n",
              "2635    650000.0    85646  ...                           Carpet, Ceramic Tile     22\n",
              "2766    575000.0    85614  ...                                  Carpet, Other    250\n",
              "2876    560100.0    85646  ...                           Carpet, Mexican Tile     21\n",
              "2917    580000.0    85629  ...                             Ceramic Tile, Wood    148\n",
              "2932    625000.0    85614  ...                  Carpet, Other: Porcelain Tile  16.66\n",
              "2939    655000.0    85614  ...                           Carpet, Ceramic Tile  83.33\n",
              "3108    610000.0    85614  ...                                              0  1,200\n",
              "3420    605000.0    85622  ...                           Carpet, Ceramic Tile     85\n",
              "3529    535000.0    85614  ...                      Carpet, Other: Tile-Other      0\n",
              "3556    624900.0    85614  ...                                   Ceramic Tile    158\n",
              "3647    606000.0    85614  ...                           Carpet, Ceramic Tile     83\n",
              "3822    550000.0    85614  ...                      Carpet, Other: Tile-Other  1,200\n",
              "4173    550000.0    85614  ...                           Carpet, Ceramic Tile    158\n",
              "4286    584165.0    85622  ...                                   Ceramic Tile      0\n",
              "4365    545000.0    85614  ...                      Carpet, Other: Travertine  33.33\n",
              "4724    510000.0    85646  ...                            Natural Stone, Wood    150\n",
              "4783    530000.0    85622  ...                                   Ceramic Tile     85\n",
              "4812    500000.0    85646  ...                           Carpet, Mexican Tile    250\n",
              "\n",
              "[25 rows x 15 columns]"
            ]
          },
          "metadata": {
            "tags": []
          },
          "execution_count": 18
        }
      ]
    },
    {
      "cell_type": "code",
      "metadata": {
        "id": "lzgGE4JOWont",
        "colab": {
          "base_uri": "https://localhost:8080/"
        },
        "outputId": "c212e309-f7c5-4225-c92a-b15303ca2687"
      },
      "source": [
        "#Count the number of occurrences of each value in the 'bathroom' column\n",
        "data['bathrooms'].value_counts()"
      ],
      "execution_count": null,
      "outputs": [
        {
          "output_type": "execute_result",
          "data": {
            "text/plain": [
              "3      1993\n",
              "4      1842\n",
              "5       654\n",
              "6       207\n",
              "2       189\n",
              "7        58\n",
              "8        19\n",
              "9         8\n",
              "3.5       7\n",
              "0         6\n",
              "2.5       3\n",
              "35        3\n",
              "1         3\n",
              "11        2\n",
              "14        1\n",
              "15        1\n",
              "18        1\n",
              "36        1\n",
              "10        1\n",
              "4.5       1\n",
              "Name: bathrooms, dtype: int64"
            ]
          },
          "metadata": {
            "tags": []
          },
          "execution_count": 19
        }
      ]
    },
    {
      "cell_type": "code",
      "metadata": {
        "id": "zh-agctx1BTg",
        "colab": {
          "base_uri": "https://localhost:8080/"
        },
        "outputId": "0f4c53a2-9c51-4582-b01b-479be7f44803"
      },
      "source": [
        "#Count the number of occurrences of each value in the 'garage' column\n",
        "data['garage'].value_counts()"
      ],
      "execution_count": null,
      "outputs": [
        {
          "output_type": "execute_result",
          "data": {
            "text/plain": [
              "3      2797\n",
              "2      1337\n",
              "4       383\n",
              "0       184\n",
              "5        88\n",
              "6        61\n",
              "2.5      48\n",
              "1        30\n",
              "3.5      16\n",
              "8        14\n",
              "7        13\n",
              "0         7\n",
              "9         6\n",
              "4.5       4\n",
              "12        3\n",
              "10        3\n",
              "13        1\n",
              "15        1\n",
              "20        1\n",
              "30        1\n",
              "11        1\n",
              "22        1\n",
              "Name: garage, dtype: int64"
            ]
          },
          "metadata": {
            "tags": []
          },
          "execution_count": 20
        }
      ]
    },
    {
      "cell_type": "code",
      "metadata": {
        "id": "YwjN3BD6jdlz",
        "colab": {
          "base_uri": "https://localhost:8080/"
        },
        "outputId": "229d2c16-34d9-4cf5-df4b-5dbb4f6a43c3"
      },
      "source": [
        "#Count the number of occurrences of each value in the 'HOA' column\n",
        "data['HOA'].value_counts()"
      ],
      "execution_count": null,
      "outputs": [
        {
          "output_type": "execute_result",
          "data": {
            "text/plain": [
              "0         824\n",
              "0         562\n",
              "5         123\n",
              "100       107\n",
              "50         85\n",
              "         ... \n",
              "238         1\n",
              "203         1\n",
              "141.66      1\n",
              "5.5         1\n",
              "700         1\n",
              "Name: HOA, Length: 381, dtype: int64"
            ]
          },
          "metadata": {
            "tags": []
          },
          "execution_count": 21
        }
      ]
    },
    {
      "cell_type": "code",
      "metadata": {
        "id": "wAokUMfnnaw6"
      },
      "source": [
        "#removing commas from HOA values\n",
        "data['HOA'] = data['HOA'].astype(str)\n",
        "data['HOA'] = data['HOA'].str.replace(',', '')"
      ],
      "execution_count": null,
      "outputs": []
    },
    {
      "cell_type": "code",
      "metadata": {
        "id": "HhhFXqmAmEXH",
        "colab": {
          "base_uri": "https://localhost:8080/"
        },
        "outputId": "51374183-3800-4d8c-a6c8-c3c3e23cf9dc"
      },
      "source": [
        "#number of null values in lot_acres\n",
        "data['lot_acres'].isna().sum()"
      ],
      "execution_count": null,
      "outputs": [
        {
          "output_type": "execute_result",
          "data": {
            "text/plain": [
              "10"
            ]
          },
          "metadata": {
            "tags": []
          },
          "execution_count": 23
        }
      ]
    },
    {
      "cell_type": "code",
      "metadata": {
        "id": "835Eq8Byj-R_",
        "colab": {
          "base_uri": "https://localhost:8080/"
        },
        "outputId": "df51d6b5-5597-4f54-b2a7-acb58930839f"
      },
      "source": [
        "#Count the number of occurrences of each value in the 'year_built' column\n",
        "data['year_built'].value_counts()"
      ],
      "execution_count": null,
      "outputs": [
        {
          "output_type": "execute_result",
          "data": {
            "text/plain": [
              "2006    247\n",
              "2007    236\n",
              "2002    235\n",
              "2005    230\n",
              "2004    202\n",
              "       ... \n",
              "1907      1\n",
              "1921      1\n",
              "1910      1\n",
              "1914      1\n",
              "1927      1\n",
              "Name: year_built, Length: 112, dtype: int64"
            ]
          },
          "metadata": {
            "tags": []
          },
          "execution_count": 24
        }
      ]
    },
    {
      "cell_type": "code",
      "metadata": {
        "id": "4gAafYxNkY-D",
        "colab": {
          "base_uri": "https://localhost:8080/"
        },
        "outputId": "0ba1cd59-0786-42fa-e39b-d53ff7ced2d9"
      },
      "source": [
        "#view the built year in ascending order\n",
        "sorted(set(data['year_built']))"
      ],
      "execution_count": null,
      "outputs": [
        {
          "output_type": "execute_result",
          "data": {
            "text/plain": [
              "[0,\n",
              " 1893,\n",
              " 1900,\n",
              " 1901,\n",
              " 1902,\n",
              " 1905,\n",
              " 1907,\n",
              " 1910,\n",
              " 1911,\n",
              " 1913,\n",
              " 1914,\n",
              " 1917,\n",
              " 1918,\n",
              " 1919,\n",
              " 1921,\n",
              " 1922,\n",
              " 1923,\n",
              " 1924,\n",
              " 1925,\n",
              " 1926,\n",
              " 1927,\n",
              " 1928,\n",
              " 1929,\n",
              " 1930,\n",
              " 1931,\n",
              " 1932,\n",
              " 1934,\n",
              " 1935,\n",
              " 1936,\n",
              " 1937,\n",
              " 1938,\n",
              " 1939,\n",
              " 1940,\n",
              " 1941,\n",
              " 1942,\n",
              " 1943,\n",
              " 1944,\n",
              " 1945,\n",
              " 1946,\n",
              " 1947,\n",
              " 1948,\n",
              " 1949,\n",
              " 1950,\n",
              " 1951,\n",
              " 1952,\n",
              " 1953,\n",
              " 1954,\n",
              " 1955,\n",
              " 1956,\n",
              " 1957,\n",
              " 1958,\n",
              " 1959,\n",
              " 1960,\n",
              " 1961,\n",
              " 1962,\n",
              " 1963,\n",
              " 1964,\n",
              " 1965,\n",
              " 1966,\n",
              " 1967,\n",
              " 1968,\n",
              " 1969,\n",
              " 1970,\n",
              " 1971,\n",
              " 1972,\n",
              " 1973,\n",
              " 1974,\n",
              " 1975,\n",
              " 1976,\n",
              " 1977,\n",
              " 1978,\n",
              " 1979,\n",
              " 1980,\n",
              " 1981,\n",
              " 1982,\n",
              " 1983,\n",
              " 1984,\n",
              " 1985,\n",
              " 1986,\n",
              " 1987,\n",
              " 1988,\n",
              " 1989,\n",
              " 1990,\n",
              " 1991,\n",
              " 1992,\n",
              " 1993,\n",
              " 1994,\n",
              " 1995,\n",
              " 1996,\n",
              " 1997,\n",
              " 1998,\n",
              " 1999,\n",
              " 2000,\n",
              " 2001,\n",
              " 2002,\n",
              " 2003,\n",
              " 2004,\n",
              " 2005,\n",
              " 2006,\n",
              " 2007,\n",
              " 2008,\n",
              " 2009,\n",
              " 2010,\n",
              " 2011,\n",
              " 2012,\n",
              " 2013,\n",
              " 2014,\n",
              " 2015,\n",
              " 2016,\n",
              " 2017,\n",
              " 2018,\n",
              " 2019]"
            ]
          },
          "metadata": {
            "tags": []
          },
          "execution_count": 25
        }
      ]
    },
    {
      "cell_type": "code",
      "metadata": {
        "id": "CmSGDsKslVea",
        "colab": {
          "base_uri": "https://localhost:8080/"
        },
        "outputId": "7643888c-6d87-4c5c-ad9c-96cc85c0b43e"
      },
      "source": [
        "#no. of records with year = 0\n",
        "(data['year_built'] == 0).sum()"
      ],
      "execution_count": null,
      "outputs": [
        {
          "output_type": "execute_result",
          "data": {
            "text/plain": [
              "5"
            ]
          },
          "metadata": {
            "tags": []
          },
          "execution_count": 26
        }
      ]
    },
    {
      "cell_type": "code",
      "metadata": {
        "id": "luvdVH9pmfTo",
        "colab": {
          "base_uri": "https://localhost:8080/"
        },
        "outputId": "a8a46d59-06fc-4626-bb92-64576b71c40e"
      },
      "source": [
        "#Count the number of occurrences of each value in the 'kitchen_features' column\n",
        "data['kitchen_features'].value_counts()"
      ],
      "execution_count": null,
      "outputs": [
        {
          "output_type": "execute_result",
          "data": {
            "text/plain": [
              "Dishwasher, Garbage Disposal, Refrigerator, Microwave, Oven                                                                                                                                         1719\n",
              "Dishwasher, Garbage Disposal, Microwave, Oven                                                                                                                                                        270\n",
              "Compactor, Dishwasher, Garbage Disposal, Refrigerator, Microwave, Oven                                                                                                                               189\n",
              "Dishwasher, Garbage Disposal, Refrigerator, Oven                                                                                                                                                     181\n",
              "Dishwasher, Freezer, Garbage Disposal, Refrigerator, Microwave, Oven                                                                                                                                 127\n",
              "                                                                                                                                                                                                    ... \n",
              "Dishwasher, Double Sink, Garbage Disposal, Indoor Grill, Island, Refrigerator, Appliance Color: Other, Countertops: granite, Oven: double                                                              1\n",
              "Dishwasher, Double Sink, Garbage Disposal, Gas Range, Island, Pantry: Walk-In, Prep Sink, Refrigerator, Wet Bar, Appliance Color: Stainless, Countertops: Granite, Microwave: Hood, Oven: Double       1\n",
              "Dishwasher, Double Sink, Freezer, Garbage Disposal, Gas Range, Refrigerator, Wet Bar, Appliance Color: Stainless, Countertops: Granite                                                                 1\n",
              "Compactor, Dishwasher, Double Sink, Freezer, Garbage Disposal, Gas Range, Indoor Grill, Island, Pantry: Cabinet, Prep Sink, Refrigerator, Warming Drawer, Appliance Color: Stainless, Oven: Two        1\n",
              "Dishwasher, Double Sink, Garbage Disposal, Gas Range, Island, Pantry: Walk-In, Water Purifier, Countertops: Corian, Missing: Custom oak cabinets, Oven: Gas                                            1\n",
              "Name: kitchen_features, Length: 1872, dtype: int64"
            ]
          },
          "metadata": {
            "tags": []
          },
          "execution_count": 27
        }
      ]
    },
    {
      "cell_type": "code",
      "metadata": {
        "id": "dlTThBXhowv-",
        "colab": {
          "base_uri": "https://localhost:8080/"
        },
        "outputId": "ff4750d5-09d2-4f4d-93e8-d7396e009ba8"
      },
      "source": [
        "#Count the number of occurrences of each value in the 'floor_covering' column\n",
        "data['floor_covering'].value_counts()"
      ],
      "execution_count": null,
      "outputs": [
        {
          "output_type": "execute_result",
          "data": {
            "text/plain": [
              "Carpet, Ceramic Tile                            1235\n",
              "Carpet, Natural Stone                            579\n",
              "Carpet, Ceramic Tile, Wood                       258\n",
              "Ceramic Tile                                     247\n",
              "Concrete                                         242\n",
              "                                                ... \n",
              "Wood, Other: Porcelain tile                        1\n",
              "Carpet, Ceramic Tile, Other: Brazilian Pergo       1\n",
              "Ceramic Tile, Other: Bamboo                        1\n",
              "Carpet, Concrete, Mexican Tile, Wood, Other        1\n",
              "0                                                  1\n",
              "Name: floor_covering, Length: 311, dtype: int64"
            ]
          },
          "metadata": {
            "tags": []
          },
          "execution_count": 28
        }
      ]
    },
    {
      "cell_type": "code",
      "metadata": {
        "id": "UZ_aCGrB1eC5"
      },
      "source": [
        "#temporary data type casting - changing object types to floats\n",
        "data['bathrooms'] = data['bathrooms'].astype(float)\n",
        "data['garage'] = data['garage'].astype(float)"
      ],
      "execution_count": null,
      "outputs": []
    },
    {
      "cell_type": "code",
      "metadata": {
        "id": "rNjAipFo1fOb"
      },
      "source": [
        "#drop records with decimal valued garages\n",
        "data = data.drop(data[((data.garage - data.garage.astype(int)) != 0)].index)"
      ],
      "execution_count": null,
      "outputs": []
    },
    {
      "cell_type": "code",
      "metadata": {
        "id": "Tju-zodEIQuT",
        "colab": {
          "base_uri": "https://localhost:8080/"
        },
        "outputId": "90d7c4cb-35cf-4440-bc53-4c6b7b856c51"
      },
      "source": [
        "#view size of dataset\n",
        "data.shape"
      ],
      "execution_count": null,
      "outputs": [
        {
          "output_type": "execute_result",
          "data": {
            "text/plain": [
              "(4932, 15)"
            ]
          },
          "metadata": {
            "tags": []
          },
          "execution_count": 31
        }
      ]
    },
    {
      "cell_type": "code",
      "metadata": {
        "id": "QGbEUG3UIR7c"
      },
      "source": [
        "#drop records with decimal valued bathrooms\n",
        "data = data.drop(data[((data.bathrooms - data.bathrooms.astype(int)) != 0)].index)\n"
      ],
      "execution_count": null,
      "outputs": []
    },
    {
      "cell_type": "code",
      "metadata": {
        "id": "Trx471vfIbgt",
        "colab": {
          "base_uri": "https://localhost:8080/"
        },
        "outputId": "66404349-35b6-4d16-84fd-b522f315072a"
      },
      "source": [
        "#view size of dataset\n",
        "data.shape"
      ],
      "execution_count": null,
      "outputs": [
        {
          "output_type": "execute_result",
          "data": {
            "text/plain": [
              "(4921, 15)"
            ]
          },
          "metadata": {
            "tags": []
          },
          "execution_count": 33
        }
      ]
    },
    {
      "cell_type": "code",
      "metadata": {
        "id": "wA686GcfILD1"
      },
      "source": [
        "#dropping records with null values in fireplaces\n",
        "data = data.drop(data[(data.fireplaces.isnull())].index)"
      ],
      "execution_count": null,
      "outputs": []
    },
    {
      "cell_type": "code",
      "metadata": {
        "id": "TEzrlTiyIMFR",
        "colab": {
          "base_uri": "https://localhost:8080/"
        },
        "outputId": "64e122fc-79b3-45e8-b4aa-fd3795b73c8a"
      },
      "source": [
        "#view size of dataset\n",
        "data.shape"
      ],
      "execution_count": null,
      "outputs": [
        {
          "output_type": "execute_result",
          "data": {
            "text/plain": [
              "(4898, 15)"
            ]
          },
          "metadata": {
            "tags": []
          },
          "execution_count": 35
        }
      ]
    },
    {
      "cell_type": "code",
      "metadata": {
        "id": "zJCMTLSvIeuN"
      },
      "source": [
        "#dropping records with null values in lot_acres\n",
        "data = data.drop(data[(data.lot_acres.isnull())].index)"
      ],
      "execution_count": null,
      "outputs": []
    },
    {
      "cell_type": "code",
      "metadata": {
        "id": "ClworJJiIky0",
        "colab": {
          "base_uri": "https://localhost:8080/"
        },
        "outputId": "7a36ad6c-dead-4a89-c638-6d891d06c3b7"
      },
      "source": [
        "#view size of dataset \n",
        "data.shape"
      ],
      "execution_count": null,
      "outputs": [
        {
          "output_type": "execute_result",
          "data": {
            "text/plain": [
              "(4896, 15)"
            ]
          },
          "metadata": {
            "tags": []
          },
          "execution_count": 37
        }
      ]
    },
    {
      "cell_type": "code",
      "metadata": {
        "id": "XCIpZBTiRGyl"
      },
      "source": [
        "#dropping records with year = 0\n",
        "data = data.drop(data[(data.year_built == 0)].index)"
      ],
      "execution_count": null,
      "outputs": []
    },
    {
      "cell_type": "code",
      "metadata": {
        "id": "bMRJ-CEzRTPX",
        "colab": {
          "base_uri": "https://localhost:8080/"
        },
        "outputId": "50e319ef-7396-4109-b759-a17af713f51f"
      },
      "source": [
        "#view size of dataset\n",
        "data.shape"
      ],
      "execution_count": null,
      "outputs": [
        {
          "output_type": "execute_result",
          "data": {
            "text/plain": [
              "(4891, 15)"
            ]
          },
          "metadata": {
            "tags": []
          },
          "execution_count": 39
        }
      ]
    },
    {
      "cell_type": "code",
      "metadata": {
        "id": "_Xwn9xoQIoZh",
        "colab": {
          "base_uri": "https://localhost:8080/"
        },
        "outputId": "195ca98a-c5a3-47d8-9610-ca1d7fc0e642"
      },
      "source": [
        "#view dataset information\n",
        "data.info()"
      ],
      "execution_count": null,
      "outputs": [
        {
          "output_type": "stream",
          "text": [
            "<class 'pandas.core.frame.DataFrame'>\n",
            "Int64Index: 4891 entries, 0 to 4999\n",
            "Data columns (total 15 columns):\n",
            " #   Column            Non-Null Count  Dtype  \n",
            "---  ------            --------------  -----  \n",
            " 0   sold_price        4891 non-null   float64\n",
            " 1   zipcode           4891 non-null   int64  \n",
            " 2   longitude         4891 non-null   float64\n",
            " 3   latitude          4891 non-null   float64\n",
            " 4   lot_acres         4891 non-null   float64\n",
            " 5   taxes             4891 non-null   float64\n",
            " 6   year_built        4891 non-null   int64  \n",
            " 7   bedrooms          4891 non-null   int64  \n",
            " 8   bathrooms         4891 non-null   float64\n",
            " 9   sqrt_ft           4891 non-null   object \n",
            " 10  garage            4891 non-null   float64\n",
            " 11  kitchen_features  4891 non-null   object \n",
            " 12  fireplaces        4891 non-null   object \n",
            " 13  floor_covering    4891 non-null   object \n",
            " 14  HOA               4891 non-null   object \n",
            "dtypes: float64(7), int64(3), object(5)\n",
            "memory usage: 611.4+ KB\n"
          ],
          "name": "stdout"
        }
      ]
    },
    {
      "cell_type": "code",
      "metadata": {
        "id": "tF1USprfjzSj"
      },
      "source": [
        "#casting data types - from object types to required data type\n",
        "data['sqrt_ft'] = data['sqrt_ft'].astype(float)\n",
        "data['HOA'] = data['HOA'].astype(float)\n",
        "data['bathrooms'] = data['bathrooms'].astype(int)\n",
        "data['garage'] = data['garage'].astype(int)\n",
        "data['fireplaces'] = data['fireplaces'].astype(int)"
      ],
      "execution_count": null,
      "outputs": []
    },
    {
      "cell_type": "code",
      "metadata": {
        "id": "5__Fjnb9ImlZ",
        "colab": {
          "base_uri": "https://localhost:8080/"
        },
        "outputId": "05c6071d-138d-4de1-9323-874556cbe835"
      },
      "source": [
        "#view dataset information\n",
        "data.info()"
      ],
      "execution_count": null,
      "outputs": [
        {
          "output_type": "stream",
          "text": [
            "<class 'pandas.core.frame.DataFrame'>\n",
            "Int64Index: 4891 entries, 0 to 4999\n",
            "Data columns (total 15 columns):\n",
            " #   Column            Non-Null Count  Dtype  \n",
            "---  ------            --------------  -----  \n",
            " 0   sold_price        4891 non-null   float64\n",
            " 1   zipcode           4891 non-null   int64  \n",
            " 2   longitude         4891 non-null   float64\n",
            " 3   latitude          4891 non-null   float64\n",
            " 4   lot_acres         4891 non-null   float64\n",
            " 5   taxes             4891 non-null   float64\n",
            " 6   year_built        4891 non-null   int64  \n",
            " 7   bedrooms          4891 non-null   int64  \n",
            " 8   bathrooms         4891 non-null   int64  \n",
            " 9   sqrt_ft           4891 non-null   float64\n",
            " 10  garage            4891 non-null   int64  \n",
            " 11  kitchen_features  4891 non-null   object \n",
            " 12  fireplaces        4891 non-null   int64  \n",
            " 13  floor_covering    4891 non-null   object \n",
            " 14  HOA               4891 non-null   float64\n",
            "dtypes: float64(7), int64(6), object(2)\n",
            "memory usage: 611.4+ KB\n"
          ],
          "name": "stdout"
        }
      ]
    },
    {
      "cell_type": "code",
      "metadata": {
        "id": "TKgk-fy9PRY0"
      },
      "source": [
        "#creating a copy of manipulated data before outlier detection\n",
        "df = data"
      ],
      "execution_count": null,
      "outputs": []
    },
    {
      "cell_type": "code",
      "metadata": {
        "id": "xGEaJ3ETZXcp",
        "colab": {
          "base_uri": "https://localhost:8080/",
          "height": 414
        },
        "outputId": "d8220adf-503a-4834-cf9e-39de892108c1"
      },
      "source": [
        "#Assumption: The number of bathrooms will not exceed the number of bedrooms + additional 3. \n",
        "#e.g: if a house has 4 bedrooms, the number of bathrooms will not be more than 7.\n",
        "\n",
        "#A function to validate if the number of bathrooms is practically proportional to no. of bedrooms\n",
        "def validate_bathrooms(row):\n",
        "    #assuming that a maximum of 3 'extra' bathrooms would be the practical threshold\n",
        "    max_bath = row['bedrooms'] + 3\n",
        "    \n",
        "    return row['bathrooms'] <= max_bath\n",
        "\n",
        "#Applying the validate_bathrooms function to each row of the dataset onto a new column called bath_valid\n",
        "df['bath_valid'] = df.apply(validate_bathrooms, axis=1)\n",
        "\n",
        "#Size of the not practical records\n",
        "(df[df['bath_valid'] == False]).shape\n",
        "\n",
        "(df[df['bath_valid'] == False])"
      ],
      "execution_count": null,
      "outputs": [
        {
          "output_type": "execute_result",
          "data": {
            "text/html": [
              "<div>\n",
              "<style scoped>\n",
              "    .dataframe tbody tr th:only-of-type {\n",
              "        vertical-align: middle;\n",
              "    }\n",
              "\n",
              "    .dataframe tbody tr th {\n",
              "        vertical-align: top;\n",
              "    }\n",
              "\n",
              "    .dataframe thead th {\n",
              "        text-align: right;\n",
              "    }\n",
              "</style>\n",
              "<table border=\"1\" class=\"dataframe\">\n",
              "  <thead>\n",
              "    <tr style=\"text-align: right;\">\n",
              "      <th></th>\n",
              "      <th>sold_price</th>\n",
              "      <th>zipcode</th>\n",
              "      <th>longitude</th>\n",
              "      <th>latitude</th>\n",
              "      <th>lot_acres</th>\n",
              "      <th>taxes</th>\n",
              "      <th>year_built</th>\n",
              "      <th>bedrooms</th>\n",
              "      <th>bathrooms</th>\n",
              "      <th>sqrt_ft</th>\n",
              "      <th>garage</th>\n",
              "      <th>kitchen_features</th>\n",
              "      <th>fireplaces</th>\n",
              "      <th>floor_covering</th>\n",
              "      <th>HOA</th>\n",
              "      <th>bath_valid</th>\n",
              "    </tr>\n",
              "  </thead>\n",
              "  <tbody>\n",
              "    <tr>\n",
              "      <th>48</th>\n",
              "      <td>1850000.0</td>\n",
              "      <td>85658</td>\n",
              "      <td>-111.039630</td>\n",
              "      <td>32.455202</td>\n",
              "      <td>8.41</td>\n",
              "      <td>22677.81</td>\n",
              "      <td>2008</td>\n",
              "      <td>4</td>\n",
              "      <td>8</td>\n",
              "      <td>7182.0</td>\n",
              "      <td>4</td>\n",
              "      <td>Dishwasher, Garbage Disposal, Gas Range, Islan...</td>\n",
              "      <td>6</td>\n",
              "      <td>Natural Stone, Wood</td>\n",
              "      <td>320.0</td>\n",
              "      <td>False</td>\n",
              "    </tr>\n",
              "    <tr>\n",
              "      <th>149</th>\n",
              "      <td>1485000.0</td>\n",
              "      <td>85718</td>\n",
              "      <td>-110.881172</td>\n",
              "      <td>32.333711</td>\n",
              "      <td>1.07</td>\n",
              "      <td>14819.95</td>\n",
              "      <td>1989</td>\n",
              "      <td>5</td>\n",
              "      <td>9</td>\n",
              "      <td>7308.0</td>\n",
              "      <td>3</td>\n",
              "      <td>Dishwasher, Garbage Disposal, Refrigerator, Mi...</td>\n",
              "      <td>6</td>\n",
              "      <td>Carpet, Ceramic Tile, Natural Stone, Wood</td>\n",
              "      <td>131.0</td>\n",
              "      <td>False</td>\n",
              "    </tr>\n",
              "    <tr>\n",
              "      <th>151</th>\n",
              "      <td>1200000.0</td>\n",
              "      <td>85750</td>\n",
              "      <td>-110.842117</td>\n",
              "      <td>32.275107</td>\n",
              "      <td>8.80</td>\n",
              "      <td>12946.09</td>\n",
              "      <td>1954</td>\n",
              "      <td>7</td>\n",
              "      <td>11</td>\n",
              "      <td>10417.0</td>\n",
              "      <td>0</td>\n",
              "      <td>Dishwasher, Garbage Disposal, Microwave, Oven</td>\n",
              "      <td>5</td>\n",
              "      <td>Carpet, Mexican Tile, Wood</td>\n",
              "      <td>0.0</td>\n",
              "      <td>False</td>\n",
              "    </tr>\n",
              "    <tr>\n",
              "      <th>255</th>\n",
              "      <td>1495000.0</td>\n",
              "      <td>85718</td>\n",
              "      <td>-110.919764</td>\n",
              "      <td>32.309111</td>\n",
              "      <td>4.30</td>\n",
              "      <td>18678.46</td>\n",
              "      <td>1979</td>\n",
              "      <td>5</td>\n",
              "      <td>9</td>\n",
              "      <td>10318.0</td>\n",
              "      <td>3</td>\n",
              "      <td>Compactor, Dishwasher, Garbage Disposal, Pantr...</td>\n",
              "      <td>3</td>\n",
              "      <td>Carpet, Ceramic Tile, Natural Stone, Wood</td>\n",
              "      <td>0.0</td>\n",
              "      <td>False</td>\n",
              "    </tr>\n",
              "    <tr>\n",
              "      <th>271</th>\n",
              "      <td>1250000.0</td>\n",
              "      <td>85755</td>\n",
              "      <td>-111.020029</td>\n",
              "      <td>32.449669</td>\n",
              "      <td>24.72</td>\n",
              "      <td>16469.00</td>\n",
              "      <td>2002</td>\n",
              "      <td>3</td>\n",
              "      <td>7</td>\n",
              "      <td>2857.0</td>\n",
              "      <td>2</td>\n",
              "      <td>Desk, Dishwasher, Double Sink, Electric Range,...</td>\n",
              "      <td>2</td>\n",
              "      <td>Concrete</td>\n",
              "      <td>0.0</td>\n",
              "      <td>False</td>\n",
              "    </tr>\n",
              "    <tr>\n",
              "      <th>484</th>\n",
              "      <td>950000.0</td>\n",
              "      <td>85646</td>\n",
              "      <td>-111.073400</td>\n",
              "      <td>31.619530</td>\n",
              "      <td>4.40</td>\n",
              "      <td>13193.80</td>\n",
              "      <td>2008</td>\n",
              "      <td>3</td>\n",
              "      <td>7</td>\n",
              "      <td>6614.0</td>\n",
              "      <td>4</td>\n",
              "      <td>Dishwasher, Refrigerator</td>\n",
              "      <td>3</td>\n",
              "      <td>Mexican Tile, Wood</td>\n",
              "      <td>0.0</td>\n",
              "      <td>False</td>\n",
              "    </tr>\n",
              "    <tr>\n",
              "      <th>490</th>\n",
              "      <td>950000.0</td>\n",
              "      <td>85646</td>\n",
              "      <td>-111.073405</td>\n",
              "      <td>31.619537</td>\n",
              "      <td>4.40</td>\n",
              "      <td>13193.80</td>\n",
              "      <td>2008</td>\n",
              "      <td>3</td>\n",
              "      <td>7</td>\n",
              "      <td>0.0</td>\n",
              "      <td>4</td>\n",
              "      <td>Compactor, Dishwasher, Double Sink, Pantry: Bu...</td>\n",
              "      <td>3</td>\n",
              "      <td>Mexican Tile, Wood, Other</td>\n",
              "      <td>0.0</td>\n",
              "      <td>False</td>\n",
              "    </tr>\n",
              "    <tr>\n",
              "      <th>4663</th>\n",
              "      <td>575359.5</td>\n",
              "      <td>85641</td>\n",
              "      <td>-110.687945</td>\n",
              "      <td>32.081978</td>\n",
              "      <td>1.07</td>\n",
              "      <td>625.00</td>\n",
              "      <td>2019</td>\n",
              "      <td>5</td>\n",
              "      <td>36</td>\n",
              "      <td>3720.0</td>\n",
              "      <td>3</td>\n",
              "      <td>Dishwasher, Double Sink, Garbage Disposal, Gas...</td>\n",
              "      <td>1</td>\n",
              "      <td>Carpet, Ceramic Tile</td>\n",
              "      <td>0.0</td>\n",
              "      <td>False</td>\n",
              "    </tr>\n",
              "  </tbody>\n",
              "</table>\n",
              "</div>"
            ],
            "text/plain": [
              "      sold_price  zipcode  ...    HOA  bath_valid\n",
              "48     1850000.0    85658  ...  320.0       False\n",
              "149    1485000.0    85718  ...  131.0       False\n",
              "151    1200000.0    85750  ...    0.0       False\n",
              "255    1495000.0    85718  ...    0.0       False\n",
              "271    1250000.0    85755  ...    0.0       False\n",
              "484     950000.0    85646  ...    0.0       False\n",
              "490     950000.0    85646  ...    0.0       False\n",
              "4663    575359.5    85641  ...    0.0       False\n",
              "\n",
              "[8 rows x 16 columns]"
            ]
          },
          "metadata": {
            "tags": []
          },
          "execution_count": 44
        }
      ]
    },
    {
      "cell_type": "code",
      "metadata": {
        "id": "5M6IaNpIhX7r",
        "colab": {
          "base_uri": "https://localhost:8080/"
        },
        "outputId": "61ad289f-d25b-4ac3-d65f-f11b15bc9977"
      },
      "source": [
        "#size of the dataset\n",
        "df.shape"
      ],
      "execution_count": null,
      "outputs": [
        {
          "output_type": "execute_result",
          "data": {
            "text/plain": [
              "(4891, 16)"
            ]
          },
          "metadata": {
            "tags": []
          },
          "execution_count": 45
        }
      ]
    },
    {
      "cell_type": "code",
      "metadata": {
        "id": "4P0db8MsctkG"
      },
      "source": [
        "#dropping the records with ridiculous bathroom:bedroom ratio\n",
        "df = df.drop(df[(df.bedrooms == 5) & (df.bathrooms == 36) ].index)"
      ],
      "execution_count": null,
      "outputs": []
    },
    {
      "cell_type": "code",
      "metadata": {
        "id": "FNvEh2Jdhe1V"
      },
      "source": [
        "#dropping the bath_valid column\n",
        "df = df.drop(columns=['bath_valid'])"
      ],
      "execution_count": null,
      "outputs": []
    },
    {
      "cell_type": "code",
      "metadata": {
        "id": "vaLK2XFzhbre",
        "colab": {
          "base_uri": "https://localhost:8080/"
        },
        "outputId": "169c617b-16ee-4080-bce7-24b8c2290712"
      },
      "source": [
        "#size of dataset\n",
        "df.shape"
      ],
      "execution_count": null,
      "outputs": [
        {
          "output_type": "execute_result",
          "data": {
            "text/plain": [
              "(4890, 15)"
            ]
          },
          "metadata": {
            "tags": []
          },
          "execution_count": 48
        }
      ]
    },
    {
      "cell_type": "code",
      "metadata": {
        "colab": {
          "base_uri": "https://localhost:8080/",
          "height": 265
        },
        "id": "rV9G1km7h2_b",
        "outputId": "68efbb17-e655-4468-b49e-0e4953f32efe"
      },
      "source": [
        "#Detecting outliers in latitude column\n",
        "plt.hist(df.latitude)\n",
        "plt.show()"
      ],
      "execution_count": null,
      "outputs": [
        {
          "output_type": "display_data",
          "data": {
            "image/png": "[encoded data removed]",
            "text/plain": [
              "<Figure size 432x288 with 1 Axes>"
            ]
          },
          "metadata": {
            "tags": [],
            "needs_background": "light"
          }
        }
      ]
    },
    {
      "cell_type": "code",
      "metadata": {
        "id": "YVuTb6RiiWjV",
        "colab": {
          "base_uri": "https://localhost:8080/",
          "height": 269
        },
        "outputId": "418f6599-17cb-46ad-b449-4fef3b6dfe10"
      },
      "source": [
        "#Detecting outliers in longitude column\n",
        "plt.hist(df.longitude)\n",
        "plt.show()"
      ],
      "execution_count": null,
      "outputs": [
        {
          "output_type": "display_data",
          "data": {
            "image/png": "[encoded data removed]",
            "text/plain": [
              "<Figure size 432x288 with 1 Axes>"
            ]
          },
          "metadata": {
            "tags": [],
            "needs_background": "light"
          }
        }
      ]
    },
    {
      "cell_type": "code",
      "metadata": {
        "id": "oU5HJNiBidG9",
        "colab": {
          "base_uri": "https://localhost:8080/",
          "height": 265
        },
        "outputId": "8328030f-b06e-4924-c81b-1d3ff7ac103e"
      },
      "source": [
        "#Detecting outliers in lot acres\n",
        "plt.hist(df.lot_acres)\n",
        "plt.show()"
      ],
      "execution_count": null,
      "outputs": [
        {
          "output_type": "display_data",
          "data": {
            "image/png": "[encoded data removed]",
            "text/plain": [
              "<Figure size 432x288 with 1 Axes>"
            ]
          },
          "metadata": {
            "tags": [],
            "needs_background": "light"
          }
        }
      ]
    },
    {
      "cell_type": "code",
      "metadata": {
        "id": "Y_Ugekgai9XF",
        "colab": {
          "base_uri": "https://localhost:8080/"
        },
        "outputId": "917a2f92-15db-4b0c-fa3f-7fbb8cab1ea1"
      },
      "source": [
        "#number of records where value of lot_acres is greater than 100\n",
        " (df[df['lot_acres'] > 100]).shape"
      ],
      "execution_count": null,
      "outputs": [
        {
          "output_type": "execute_result",
          "data": {
            "text/plain": [
              "(21, 15)"
            ]
          },
          "metadata": {
            "tags": []
          },
          "execution_count": 52
        }
      ]
    },
    {
      "cell_type": "code",
      "metadata": {
        "id": "eaxcmxePplNm",
        "colab": {
          "base_uri": "https://localhost:8080/",
          "height": 884
        },
        "outputId": "673cc7f0-6b43-4a25-aa2f-191c6a567f27"
      },
      "source": [
        "#subset of records where values of lot_acres is greater than 100\n",
        "(df[df['lot_acres'] > 100])"
      ],
      "execution_count": null,
      "outputs": [
        {
          "output_type": "execute_result",
          "data": {
            "text/html": [
              "<div>\n",
              "<style scoped>\n",
              "    .dataframe tbody tr th:only-of-type {\n",
              "        vertical-align: middle;\n",
              "    }\n",
              "\n",
              "    .dataframe tbody tr th {\n",
              "        vertical-align: top;\n",
              "    }\n",
              "\n",
              "    .dataframe thead th {\n",
              "        text-align: right;\n",
              "    }\n",
              "</style>\n",
              "<table border=\"1\" class=\"dataframe\">\n",
              "  <thead>\n",
              "    <tr style=\"text-align: right;\">\n",
              "      <th></th>\n",
              "      <th>sold_price</th>\n",
              "      <th>zipcode</th>\n",
              "      <th>longitude</th>\n",
              "      <th>latitude</th>\n",
              "      <th>lot_acres</th>\n",
              "      <th>taxes</th>\n",
              "      <th>year_built</th>\n",
              "      <th>bedrooms</th>\n",
              "      <th>bathrooms</th>\n",
              "      <th>sqrt_ft</th>\n",
              "      <th>garage</th>\n",
              "      <th>kitchen_features</th>\n",
              "      <th>fireplaces</th>\n",
              "      <th>floor_covering</th>\n",
              "      <th>HOA</th>\n",
              "    </tr>\n",
              "  </thead>\n",
              "  <tbody>\n",
              "    <tr>\n",
              "      <th>0</th>\n",
              "      <td>5300000.0</td>\n",
              "      <td>85637</td>\n",
              "      <td>-110.378200</td>\n",
              "      <td>31.356362</td>\n",
              "      <td>2154.00</td>\n",
              "      <td>5272.00</td>\n",
              "      <td>1941</td>\n",
              "      <td>13</td>\n",
              "      <td>10</td>\n",
              "      <td>10500.0</td>\n",
              "      <td>0</td>\n",
              "      <td>Dishwasher, Freezer, Refrigerator, Oven</td>\n",
              "      <td>6</td>\n",
              "      <td>Mexican Tile, Wood</td>\n",
              "      <td>0.0</td>\n",
              "    </tr>\n",
              "    <tr>\n",
              "      <th>1</th>\n",
              "      <td>4200000.0</td>\n",
              "      <td>85646</td>\n",
              "      <td>-111.045371</td>\n",
              "      <td>31.594213</td>\n",
              "      <td>1707.00</td>\n",
              "      <td>10422.36</td>\n",
              "      <td>1997</td>\n",
              "      <td>2</td>\n",
              "      <td>2</td>\n",
              "      <td>7300.0</td>\n",
              "      <td>0</td>\n",
              "      <td>Dishwasher, Garbage Disposal</td>\n",
              "      <td>5</td>\n",
              "      <td>Natural Stone, Other</td>\n",
              "      <td>0.0</td>\n",
              "    </tr>\n",
              "    <tr>\n",
              "      <th>2</th>\n",
              "      <td>4200000.0</td>\n",
              "      <td>85646</td>\n",
              "      <td>-111.040707</td>\n",
              "      <td>31.594844</td>\n",
              "      <td>1707.00</td>\n",
              "      <td>10482.00</td>\n",
              "      <td>1997</td>\n",
              "      <td>2</td>\n",
              "      <td>3</td>\n",
              "      <td>0.0</td>\n",
              "      <td>0</td>\n",
              "      <td>Dishwasher, Garbage Disposal, Refrigerator</td>\n",
              "      <td>5</td>\n",
              "      <td>Natural Stone, Other: Rock</td>\n",
              "      <td>0.0</td>\n",
              "    </tr>\n",
              "    <tr>\n",
              "      <th>3</th>\n",
              "      <td>4500000.0</td>\n",
              "      <td>85646</td>\n",
              "      <td>-111.035925</td>\n",
              "      <td>31.645878</td>\n",
              "      <td>636.67</td>\n",
              "      <td>8418.58</td>\n",
              "      <td>1930</td>\n",
              "      <td>7</td>\n",
              "      <td>5</td>\n",
              "      <td>9019.0</td>\n",
              "      <td>4</td>\n",
              "      <td>Dishwasher, Double Sink, Pantry: Butler, Refri...</td>\n",
              "      <td>4</td>\n",
              "      <td>Ceramic Tile, Laminate, Wood</td>\n",
              "      <td>0.0</td>\n",
              "    </tr>\n",
              "    <tr>\n",
              "      <th>10</th>\n",
              "      <td>2776518.0</td>\n",
              "      <td>85640</td>\n",
              "      <td>-111.045441</td>\n",
              "      <td>31.562121</td>\n",
              "      <td>147.18</td>\n",
              "      <td>7330.36</td>\n",
              "      <td>1935</td>\n",
              "      <td>5</td>\n",
              "      <td>5</td>\n",
              "      <td>5067.0</td>\n",
              "      <td>5</td>\n",
              "      <td>Freezer, Refrigerator, Appliance Color: Stainl...</td>\n",
              "      <td>5</td>\n",
              "      <td>Concrete, Natural Stone, Wood</td>\n",
              "      <td>0.0</td>\n",
              "    </tr>\n",
              "    <tr>\n",
              "      <th>29</th>\n",
              "      <td>2500000.0</td>\n",
              "      <td>85609</td>\n",
              "      <td>-110.095713</td>\n",
              "      <td>32.057222</td>\n",
              "      <td>1048.18</td>\n",
              "      <td>2441.60</td>\n",
              "      <td>1985</td>\n",
              "      <td>2</td>\n",
              "      <td>2</td>\n",
              "      <td>2895.0</td>\n",
              "      <td>0</td>\n",
              "      <td>Refrigerator, Oven</td>\n",
              "      <td>1</td>\n",
              "      <td>Carpet, Mexican Tile, Other</td>\n",
              "      <td>0.0</td>\n",
              "    </tr>\n",
              "    <tr>\n",
              "      <th>38</th>\n",
              "      <td>2200000.0</td>\n",
              "      <td>85640</td>\n",
              "      <td>-111.043773</td>\n",
              "      <td>31.562102</td>\n",
              "      <td>147.18</td>\n",
              "      <td>3902.00</td>\n",
              "      <td>1935</td>\n",
              "      <td>5</td>\n",
              "      <td>5</td>\n",
              "      <td>4317.0</td>\n",
              "      <td>5</td>\n",
              "      <td>Dishwasher, Freezer, Garbage Disposal, Refrige...</td>\n",
              "      <td>4</td>\n",
              "      <td>Ceramic Tile, Mexican Tile</td>\n",
              "      <td>0.0</td>\n",
              "    </tr>\n",
              "    <tr>\n",
              "      <th>61</th>\n",
              "      <td>2000000.0</td>\n",
              "      <td>85715</td>\n",
              "      <td>-110.862142</td>\n",
              "      <td>32.264695</td>\n",
              "      <td>103.00</td>\n",
              "      <td>7069.16</td>\n",
              "      <td>1967</td>\n",
              "      <td>3</td>\n",
              "      <td>5</td>\n",
              "      <td>3969.0</td>\n",
              "      <td>3</td>\n",
              "      <td>Dishwasher, Double Sink, Freezer, Garbage Disp...</td>\n",
              "      <td>1</td>\n",
              "      <td>Wood</td>\n",
              "      <td>0.0</td>\n",
              "    </tr>\n",
              "    <tr>\n",
              "      <th>62</th>\n",
              "      <td>1295000.0</td>\n",
              "      <td>85637</td>\n",
              "      <td>-110.683575</td>\n",
              "      <td>31.684722</td>\n",
              "      <td>273.03</td>\n",
              "      <td>8411.94</td>\n",
              "      <td>1995</td>\n",
              "      <td>3</td>\n",
              "      <td>4</td>\n",
              "      <td>2681.0</td>\n",
              "      <td>6</td>\n",
              "      <td>Dishwasher</td>\n",
              "      <td>1</td>\n",
              "      <td>Mexican Tile</td>\n",
              "      <td>0.0</td>\n",
              "    </tr>\n",
              "    <tr>\n",
              "      <th>101</th>\n",
              "      <td>1450000.0</td>\n",
              "      <td>85624</td>\n",
              "      <td>-110.738083</td>\n",
              "      <td>31.533643</td>\n",
              "      <td>164.30</td>\n",
              "      <td>0.00</td>\n",
              "      <td>1997</td>\n",
              "      <td>1</td>\n",
              "      <td>1</td>\n",
              "      <td>3576.0</td>\n",
              "      <td>0</td>\n",
              "      <td>Missing: All Appliances</td>\n",
              "      <td>0</td>\n",
              "      <td>Concrete</td>\n",
              "      <td>0.0</td>\n",
              "    </tr>\n",
              "    <tr>\n",
              "      <th>279</th>\n",
              "      <td>1450000.0</td>\n",
              "      <td>85624</td>\n",
              "      <td>-110.654319</td>\n",
              "      <td>31.430558</td>\n",
              "      <td>220.00</td>\n",
              "      <td>1200.00</td>\n",
              "      <td>1980</td>\n",
              "      <td>1</td>\n",
              "      <td>1</td>\n",
              "      <td>1200.0</td>\n",
              "      <td>2</td>\n",
              "      <td>Refrigerator, Oven</td>\n",
              "      <td>1</td>\n",
              "      <td>Mexican Tile</td>\n",
              "      <td>0.0</td>\n",
              "    </tr>\n",
              "    <tr>\n",
              "      <th>481</th>\n",
              "      <td>1200000.0</td>\n",
              "      <td>85641</td>\n",
              "      <td>-110.648189</td>\n",
              "      <td>31.942810</td>\n",
              "      <td>277.00</td>\n",
              "      <td>6785.52</td>\n",
              "      <td>1946</td>\n",
              "      <td>7</td>\n",
              "      <td>7</td>\n",
              "      <td>5517.0</td>\n",
              "      <td>0</td>\n",
              "      <td>Dishwasher, Oven</td>\n",
              "      <td>5</td>\n",
              "      <td>Ceramic Tile, Concrete, Mexican Tile, Other</td>\n",
              "      <td>0.0</td>\n",
              "    </tr>\n",
              "    <tr>\n",
              "      <th>1095</th>\n",
              "      <td>825000.0</td>\n",
              "      <td>85602</td>\n",
              "      <td>-110.301050</td>\n",
              "      <td>32.174646</td>\n",
              "      <td>444.93</td>\n",
              "      <td>9759.00</td>\n",
              "      <td>2006</td>\n",
              "      <td>3</td>\n",
              "      <td>5</td>\n",
              "      <td>3962.0</td>\n",
              "      <td>3</td>\n",
              "      <td>Dishwasher, Garbage Disposal, Microwave, Oven</td>\n",
              "      <td>2</td>\n",
              "      <td>Carpet, Ceramic Tile</td>\n",
              "      <td>0.0</td>\n",
              "    </tr>\n",
              "    <tr>\n",
              "      <th>1268</th>\n",
              "      <td>845000.0</td>\n",
              "      <td>85610</td>\n",
              "      <td>-109.826222</td>\n",
              "      <td>31.712338</td>\n",
              "      <td>117.02</td>\n",
              "      <td>3292.18</td>\n",
              "      <td>2007</td>\n",
              "      <td>3</td>\n",
              "      <td>4</td>\n",
              "      <td>4592.0</td>\n",
              "      <td>3</td>\n",
              "      <td>Dishwasher, Garbage Disposal, Gas Range, Islan...</td>\n",
              "      <td>3</td>\n",
              "      <td>Carpet, Laminate, Other: Cork</td>\n",
              "      <td>42.0</td>\n",
              "    </tr>\n",
              "    <tr>\n",
              "      <th>1687</th>\n",
              "      <td>700000.0</td>\n",
              "      <td>85645</td>\n",
              "      <td>-111.235496</td>\n",
              "      <td>31.660699</td>\n",
              "      <td>172.76</td>\n",
              "      <td>7501.42</td>\n",
              "      <td>2000</td>\n",
              "      <td>3</td>\n",
              "      <td>3</td>\n",
              "      <td>2781.0</td>\n",
              "      <td>2</td>\n",
              "      <td>Dishwasher, Garbage Disposal, Refrigerator, Oven</td>\n",
              "      <td>3</td>\n",
              "      <td>Carpet, Ceramic Tile, Mexican Tile</td>\n",
              "      <td>0.0</td>\n",
              "    </tr>\n",
              "    <tr>\n",
              "      <th>1734</th>\n",
              "      <td>700000.0</td>\n",
              "      <td>85645</td>\n",
              "      <td>-111.239157</td>\n",
              "      <td>31.665591</td>\n",
              "      <td>172.76</td>\n",
              "      <td>7501.42</td>\n",
              "      <td>1978</td>\n",
              "      <td>3</td>\n",
              "      <td>3</td>\n",
              "      <td>2781.0</td>\n",
              "      <td>2</td>\n",
              "      <td>Dishwasher, Electric Range, Garbage Disposal, ...</td>\n",
              "      <td>3</td>\n",
              "      <td>Carpet, Ceramic Tile</td>\n",
              "      <td>0.0</td>\n",
              "    </tr>\n",
              "    <tr>\n",
              "      <th>2478</th>\n",
              "      <td>596000.0</td>\n",
              "      <td>85643</td>\n",
              "      <td>-109.935643</td>\n",
              "      <td>32.351352</td>\n",
              "      <td>471.00</td>\n",
              "      <td>10264.42</td>\n",
              "      <td>1964</td>\n",
              "      <td>4</td>\n",
              "      <td>3</td>\n",
              "      <td>2338.0</td>\n",
              "      <td>0</td>\n",
              "      <td>Dishwasher, Refrigerator, Oven</td>\n",
              "      <td>1</td>\n",
              "      <td>Carpet, Ceramic Tile</td>\n",
              "      <td>0.0</td>\n",
              "    </tr>\n",
              "    <tr>\n",
              "      <th>2805</th>\n",
              "      <td>596550.0</td>\n",
              "      <td>85637</td>\n",
              "      <td>-110.746668</td>\n",
              "      <td>31.625480</td>\n",
              "      <td>104.80</td>\n",
              "      <td>9512.00</td>\n",
              "      <td>1971</td>\n",
              "      <td>6</td>\n",
              "      <td>6</td>\n",
              "      <td>4656.0</td>\n",
              "      <td>0</td>\n",
              "      <td>Dishwasher, Refrigerator, Microwave, Oven</td>\n",
              "      <td>3</td>\n",
              "      <td>Mexican Tile</td>\n",
              "      <td>83.0</td>\n",
              "    </tr>\n",
              "    <tr>\n",
              "      <th>3206</th>\n",
              "      <td>649000.0</td>\n",
              "      <td>85610</td>\n",
              "      <td>-109.826223</td>\n",
              "      <td>31.712332</td>\n",
              "      <td>117.02</td>\n",
              "      <td>4774.30</td>\n",
              "      <td>2008</td>\n",
              "      <td>3</td>\n",
              "      <td>4</td>\n",
              "      <td>3944.0</td>\n",
              "      <td>3</td>\n",
              "      <td>Dishwasher, Garbage Disposal, Refrigerator, Mi...</td>\n",
              "      <td>4</td>\n",
              "      <td>Carpet, Ceramic Tile</td>\n",
              "      <td>42.0</td>\n",
              "    </tr>\n",
              "    <tr>\n",
              "      <th>4110</th>\n",
              "      <td>530000.0</td>\n",
              "      <td>85625</td>\n",
              "      <td>-109.685284</td>\n",
              "      <td>31.879267</td>\n",
              "      <td>119.79</td>\n",
              "      <td>2325.10</td>\n",
              "      <td>1979</td>\n",
              "      <td>3</td>\n",
              "      <td>3</td>\n",
              "      <td>3488.0</td>\n",
              "      <td>3</td>\n",
              "      <td>Compactor, Dishwasher, Garbage Disposal, Refri...</td>\n",
              "      <td>1</td>\n",
              "      <td>Carpet, Ceramic Tile, Indoor/Outdoor, Wood</td>\n",
              "      <td>0.0</td>\n",
              "    </tr>\n",
              "    <tr>\n",
              "      <th>4518</th>\n",
              "      <td>500000.0</td>\n",
              "      <td>85638</td>\n",
              "      <td>-110.082311</td>\n",
              "      <td>31.712638</td>\n",
              "      <td>555.60</td>\n",
              "      <td>4669.32</td>\n",
              "      <td>1934</td>\n",
              "      <td>11</td>\n",
              "      <td>11</td>\n",
              "      <td>5800.0</td>\n",
              "      <td>0</td>\n",
              "      <td>Pantry: Closet</td>\n",
              "      <td>1</td>\n",
              "      <td>Vinyl, Wood</td>\n",
              "      <td>0.0</td>\n",
              "    </tr>\n",
              "  </tbody>\n",
              "</table>\n",
              "</div>"
            ],
            "text/plain": [
              "      sold_price  zipcode  ...                               floor_covering   HOA\n",
              "0      5300000.0    85637  ...                           Mexican Tile, Wood   0.0\n",
              "1      4200000.0    85646  ...                         Natural Stone, Other   0.0\n",
              "2      4200000.0    85646  ...                   Natural Stone, Other: Rock   0.0\n",
              "3      4500000.0    85646  ...                 Ceramic Tile, Laminate, Wood   0.0\n",
              "10     2776518.0    85640  ...                Concrete, Natural Stone, Wood   0.0\n",
              "29     2500000.0    85609  ...                  Carpet, Mexican Tile, Other   0.0\n",
              "38     2200000.0    85640  ...                   Ceramic Tile, Mexican Tile   0.0\n",
              "61     2000000.0    85715  ...                                         Wood   0.0\n",
              "62     1295000.0    85637  ...                                 Mexican Tile   0.0\n",
              "101    1450000.0    85624  ...                                     Concrete   0.0\n",
              "279    1450000.0    85624  ...                                 Mexican Tile   0.0\n",
              "481    1200000.0    85641  ...  Ceramic Tile, Concrete, Mexican Tile, Other   0.0\n",
              "1095    825000.0    85602  ...                         Carpet, Ceramic Tile   0.0\n",
              "1268    845000.0    85610  ...                Carpet, Laminate, Other: Cork  42.0\n",
              "1687    700000.0    85645  ...           Carpet, Ceramic Tile, Mexican Tile   0.0\n",
              "1734    700000.0    85645  ...                         Carpet, Ceramic Tile   0.0\n",
              "2478    596000.0    85643  ...                         Carpet, Ceramic Tile   0.0\n",
              "2805    596550.0    85637  ...                                 Mexican Tile  83.0\n",
              "3206    649000.0    85610  ...                         Carpet, Ceramic Tile  42.0\n",
              "4110    530000.0    85625  ...   Carpet, Ceramic Tile, Indoor/Outdoor, Wood   0.0\n",
              "4518    500000.0    85638  ...                                  Vinyl, Wood   0.0\n",
              "\n",
              "[21 rows x 15 columns]"
            ]
          },
          "metadata": {
            "tags": []
          },
          "execution_count": 53
        }
      ]
    },
    {
      "cell_type": "code",
      "metadata": {
        "id": "rynQTw2kqpEP",
        "colab": {
          "base_uri": "https://localhost:8080/",
          "height": 276
        },
        "outputId": "2c47b434-163c-41a8-ccc6-8d7dfda8d943"
      },
      "source": [
        "#plot to demonstrate the relationship between the lot_acres and the sold price\n",
        "plt.scatter(df.lot_acres, df.sold_price,)\n",
        "plt.show()"
      ],
      "execution_count": null,
      "outputs": [
        {
          "output_type": "display_data",
          "data": {
            "image/png": "[encoded data removed]",
            "text/plain": [
              "<Figure size 432x288 with 1 Axes>"
            ]
          },
          "metadata": {
            "tags": [],
            "needs_background": "light"
          }
        }
      ]
    },
    {
      "cell_type": "code",
      "metadata": {
        "id": "nPMMCRPCrFA-",
        "colab": {
          "base_uri": "https://localhost:8080/",
          "height": 278
        },
        "outputId": "3336b27f-42e5-4954-918a-c89e72457ebf"
      },
      "source": [
        "#Detecting outliers in tax\n",
        "plt.hist(df.taxes)\n",
        "plt.show()"
      ],
      "execution_count": null,
      "outputs": [
        {
          "output_type": "display_data",
          "data": {
            "image/png": "[encoded data removed]",
            "text/plain": [
              "<Figure size 432x288 with 1 Axes>"
            ]
          },
          "metadata": {
            "tags": [],
            "needs_background": "light"
          }
        }
      ]
    },
    {
      "cell_type": "code",
      "metadata": {
        "id": "wek-_e78tVbJ",
        "colab": {
          "base_uri": "https://localhost:8080/"
        },
        "outputId": "34cd7052-ef7b-45f2-ce0e-6b5d4414fc6c"
      },
      "source": [
        "#number of records where tax is greater than 0.2^7\n",
        "(df[df['taxes'] > 2000000]).shape"
      ],
      "execution_count": null,
      "outputs": [
        {
          "output_type": "execute_result",
          "data": {
            "text/plain": [
              "(1, 15)"
            ]
          },
          "metadata": {
            "tags": []
          },
          "execution_count": 56
        }
      ]
    },
    {
      "cell_type": "code",
      "metadata": {
        "id": "K43NV2hJt3qA",
        "colab": {
          "base_uri": "https://localhost:8080/",
          "height": 80
        },
        "outputId": "38c8cdd1-aa7f-4129-f917-fe8db906c05f"
      },
      "source": [
        "#subset of records where tax is greater than 0.2^7\n",
        "(df[df['taxes'] > 2000000])"
      ],
      "execution_count": null,
      "outputs": [
        {
          "output_type": "execute_result",
          "data": {
            "text/html": [
              "<div>\n",
              "<style scoped>\n",
              "    .dataframe tbody tr th:only-of-type {\n",
              "        vertical-align: middle;\n",
              "    }\n",
              "\n",
              "    .dataframe tbody tr th {\n",
              "        vertical-align: top;\n",
              "    }\n",
              "\n",
              "    .dataframe thead th {\n",
              "        text-align: right;\n",
              "    }\n",
              "</style>\n",
              "<table border=\"1\" class=\"dataframe\">\n",
              "  <thead>\n",
              "    <tr style=\"text-align: right;\">\n",
              "      <th></th>\n",
              "      <th>sold_price</th>\n",
              "      <th>zipcode</th>\n",
              "      <th>longitude</th>\n",
              "      <th>latitude</th>\n",
              "      <th>lot_acres</th>\n",
              "      <th>taxes</th>\n",
              "      <th>year_built</th>\n",
              "      <th>bedrooms</th>\n",
              "      <th>bathrooms</th>\n",
              "      <th>sqrt_ft</th>\n",
              "      <th>garage</th>\n",
              "      <th>kitchen_features</th>\n",
              "      <th>fireplaces</th>\n",
              "      <th>floor_covering</th>\n",
              "      <th>HOA</th>\n",
              "    </tr>\n",
              "  </thead>\n",
              "  <tbody>\n",
              "    <tr>\n",
              "      <th>715</th>\n",
              "      <td>1040000.0</td>\n",
              "      <td>85718</td>\n",
              "      <td>-110.909653</td>\n",
              "      <td>32.301099</td>\n",
              "      <td>1.43</td>\n",
              "      <td>12215075.0</td>\n",
              "      <td>1987</td>\n",
              "      <td>4</td>\n",
              "      <td>4</td>\n",
              "      <td>5729.0</td>\n",
              "      <td>3</td>\n",
              "      <td>Dishwasher, Garbage Disposal, Refrigerator, Mi...</td>\n",
              "      <td>3</td>\n",
              "      <td>Ceramic Tile, Natural Stone</td>\n",
              "      <td>193.0</td>\n",
              "    </tr>\n",
              "  </tbody>\n",
              "</table>\n",
              "</div>"
            ],
            "text/plain": [
              "     sold_price  zipcode  ...               floor_covering    HOA\n",
              "715   1040000.0    85718  ...  Ceramic Tile, Natural Stone  193.0\n",
              "\n",
              "[1 rows x 15 columns]"
            ]
          },
          "metadata": {
            "tags": []
          },
          "execution_count": 57
        }
      ]
    },
    {
      "cell_type": "code",
      "metadata": {
        "id": "8TAP5ESuubJb",
        "colab": {
          "base_uri": "https://localhost:8080/"
        },
        "outputId": "6faba1b3-bfe9-4120-f3f7-0cae43e2b7a4"
      },
      "source": [
        "#size of dataset\n",
        "df.shape"
      ],
      "execution_count": null,
      "outputs": [
        {
          "output_type": "execute_result",
          "data": {
            "text/plain": [
              "(4890, 15)"
            ]
          },
          "metadata": {
            "tags": []
          },
          "execution_count": 58
        }
      ]
    },
    {
      "cell_type": "code",
      "metadata": {
        "id": "67a7koZ5t-3q"
      },
      "source": [
        "#dropping the record with tax outlier\n",
        "df = df.drop(df[(df.taxes > 2000000) ].index)"
      ],
      "execution_count": null,
      "outputs": []
    },
    {
      "cell_type": "code",
      "metadata": {
        "id": "bbi-vzrkuehK",
        "colab": {
          "base_uri": "https://localhost:8080/"
        },
        "outputId": "c73f3c2c-3395-4134-8060-57729abcd2d5"
      },
      "source": [
        "#size of dataset\n",
        "df.shape"
      ],
      "execution_count": null,
      "outputs": [
        {
          "output_type": "execute_result",
          "data": {
            "text/plain": [
              "(4889, 15)"
            ]
          },
          "metadata": {
            "tags": []
          },
          "execution_count": 60
        }
      ]
    },
    {
      "cell_type": "code",
      "metadata": {
        "id": "H5ei0QFfuiGR",
        "colab": {
          "base_uri": "https://localhost:8080/",
          "height": 265
        },
        "outputId": "5ef9f2e2-99b7-441c-cc3b-8688567f722f"
      },
      "source": [
        "#Detecting outliers in tax\n",
        "plt.hist(df.taxes)\n",
        "plt.show()"
      ],
      "execution_count": null,
      "outputs": [
        {
          "output_type": "display_data",
          "data": {
            "image/png": "[encoded data removed]",
            "text/plain": [
              "<Figure size 432x288 with 1 Axes>"
            ]
          },
          "metadata": {
            "tags": [],
            "needs_background": "light"
          }
        }
      ]
    },
    {
      "cell_type": "code",
      "metadata": {
        "colab": {
          "base_uri": "https://localhost:8080/"
        },
        "id": "3gUB1slTuu4W",
        "outputId": "8b0576fa-fbc3-424c-98fc-e51d6ee322a0"
      },
      "source": [
        "#number of records where tax is greater than 100000\n",
        "(df[df['taxes'] > 100000]).shape"
      ],
      "execution_count": null,
      "outputs": [
        {
          "output_type": "execute_result",
          "data": {
            "text/plain": [
              "(1, 15)"
            ]
          },
          "metadata": {
            "tags": []
          },
          "execution_count": 62
        }
      ]
    },
    {
      "cell_type": "code",
      "metadata": {
        "id": "Ja9etI3yu5Gn",
        "colab": {
          "base_uri": "https://localhost:8080/",
          "height": 97
        },
        "outputId": "d040da55-4e20-45fa-b8ae-ee8e9c70e3cc"
      },
      "source": [
        "#subset of records where tax is greater than 100000\n",
        "(df[df['taxes'] > 100000])"
      ],
      "execution_count": null,
      "outputs": [
        {
          "output_type": "execute_result",
          "data": {
            "text/html": [
              "<div>\n",
              "<style scoped>\n",
              "    .dataframe tbody tr th:only-of-type {\n",
              "        vertical-align: middle;\n",
              "    }\n",
              "\n",
              "    .dataframe tbody tr th {\n",
              "        vertical-align: top;\n",
              "    }\n",
              "\n",
              "    .dataframe thead th {\n",
              "        text-align: right;\n",
              "    }\n",
              "</style>\n",
              "<table border=\"1\" class=\"dataframe\">\n",
              "  <thead>\n",
              "    <tr style=\"text-align: right;\">\n",
              "      <th></th>\n",
              "      <th>sold_price</th>\n",
              "      <th>zipcode</th>\n",
              "      <th>longitude</th>\n",
              "      <th>latitude</th>\n",
              "      <th>lot_acres</th>\n",
              "      <th>taxes</th>\n",
              "      <th>year_built</th>\n",
              "      <th>bedrooms</th>\n",
              "      <th>bathrooms</th>\n",
              "      <th>sqrt_ft</th>\n",
              "      <th>garage</th>\n",
              "      <th>kitchen_features</th>\n",
              "      <th>fireplaces</th>\n",
              "      <th>floor_covering</th>\n",
              "      <th>HOA</th>\n",
              "    </tr>\n",
              "  </thead>\n",
              "  <tbody>\n",
              "    <tr>\n",
              "      <th>1135</th>\n",
              "      <td>885000.0</td>\n",
              "      <td>85718</td>\n",
              "      <td>-110.92421</td>\n",
              "      <td>32.309002</td>\n",
              "      <td>1.2</td>\n",
              "      <td>668059.0</td>\n",
              "      <td>2003</td>\n",
              "      <td>4</td>\n",
              "      <td>3</td>\n",
              "      <td>3650.0</td>\n",
              "      <td>3</td>\n",
              "      <td>Dishwasher, Double Sink, Electric Range, Garba...</td>\n",
              "      <td>2</td>\n",
              "      <td>Carpet, Natural Stone, Other: Travertine</td>\n",
              "      <td>0.0</td>\n",
              "    </tr>\n",
              "  </tbody>\n",
              "</table>\n",
              "</div>"
            ],
            "text/plain": [
              "      sold_price  zipcode  ...                            floor_covering  HOA\n",
              "1135    885000.0    85718  ...  Carpet, Natural Stone, Other: Travertine  0.0\n",
              "\n",
              "[1 rows x 15 columns]"
            ]
          },
          "metadata": {
            "tags": []
          },
          "execution_count": 63
        }
      ]
    },
    {
      "cell_type": "code",
      "metadata": {
        "id": "fDxAqEZau-N2"
      },
      "source": [
        "#dropping the record with tax outlier\n",
        "df = df.drop(df[(df.taxes > 100000) ].index)"
      ],
      "execution_count": null,
      "outputs": []
    },
    {
      "cell_type": "code",
      "metadata": {
        "id": "x4Ekk8rjvF-F",
        "colab": {
          "base_uri": "https://localhost:8080/"
        },
        "outputId": "d7521d85-23da-443f-c6cb-5728769e984f"
      },
      "source": [
        "#size of dataset\n",
        "df.shape"
      ],
      "execution_count": null,
      "outputs": [
        {
          "output_type": "execute_result",
          "data": {
            "text/plain": [
              "(4888, 15)"
            ]
          },
          "metadata": {
            "tags": []
          },
          "execution_count": 65
        }
      ]
    },
    {
      "cell_type": "code",
      "metadata": {
        "id": "7w6-O9FWvIUt",
        "colab": {
          "base_uri": "https://localhost:8080/",
          "height": 265
        },
        "outputId": "c59bf383-e7a8-44b8-92fd-bf92b0cb3371"
      },
      "source": [
        "#Detecting outliers in tax\n",
        "plt.hist(df.taxes)\n",
        "plt.show()"
      ],
      "execution_count": null,
      "outputs": [
        {
          "output_type": "display_data",
          "data": {
            "image/png": "[encoded data removed]",
            "text/plain": [
              "<Figure size 432x288 with 1 Axes>"
            ]
          },
          "metadata": {
            "tags": [],
            "needs_background": "light"
          }
        }
      ]
    },
    {
      "cell_type": "code",
      "metadata": {
        "id": "TDFCabnqvWxB",
        "colab": {
          "base_uri": "https://localhost:8080/",
          "height": 265
        },
        "outputId": "b96281d6-0c91-479e-aa91-e720cd2a335e"
      },
      "source": [
        "#Detecting outliers in year_built\n",
        "plt.hist(df.year_built)\n",
        "plt.show()"
      ],
      "execution_count": null,
      "outputs": [
        {
          "output_type": "display_data",
          "data": {
            "image/png": "[encoded data removed]",
            "text/plain": [
              "<Figure size 432x288 with 1 Axes>"
            ]
          },
          "metadata": {
            "tags": [],
            "needs_background": "light"
          }
        }
      ]
    },
    {
      "cell_type": "code",
      "metadata": {
        "id": "gy_2GTahvuv6",
        "colab": {
          "base_uri": "https://localhost:8080/",
          "height": 266
        },
        "outputId": "69f6bdf7-4273-4779-b418-329afced665d"
      },
      "source": [
        "#Detecting outliers in bedrooms\n",
        "plt.hist(df.bedrooms)\n",
        "plt.show()"
      ],
      "execution_count": null,
      "outputs": [
        {
          "output_type": "display_data",
          "data": {
            "image/png": "[encoded data removed]",
            "text/plain": [
              "<Figure size 432x288 with 1 Axes>"
            ]
          },
          "metadata": {
            "tags": [],
            "needs_background": "light"
          }
        }
      ]
    },
    {
      "cell_type": "code",
      "metadata": {
        "id": "Wdr9A7rPv4qN",
        "colab": {
          "base_uri": "https://localhost:8080/",
          "height": 220
        },
        "outputId": "c8796f8e-2532-4169-880d-2dfa237248f2"
      },
      "source": [
        "#subset of records where number of bedrooms is greater than 15\n",
        "(df[df['bedrooms'] > 15])"
      ],
      "execution_count": null,
      "outputs": [
        {
          "output_type": "execute_result",
          "data": {
            "text/html": [
              "<div>\n",
              "<style scoped>\n",
              "    .dataframe tbody tr th:only-of-type {\n",
              "        vertical-align: middle;\n",
              "    }\n",
              "\n",
              "    .dataframe tbody tr th {\n",
              "        vertical-align: top;\n",
              "    }\n",
              "\n",
              "    .dataframe thead th {\n",
              "        text-align: right;\n",
              "    }\n",
              "</style>\n",
              "<table border=\"1\" class=\"dataframe\">\n",
              "  <thead>\n",
              "    <tr style=\"text-align: right;\">\n",
              "      <th></th>\n",
              "      <th>sold_price</th>\n",
              "      <th>zipcode</th>\n",
              "      <th>longitude</th>\n",
              "      <th>latitude</th>\n",
              "      <th>lot_acres</th>\n",
              "      <th>taxes</th>\n",
              "      <th>year_built</th>\n",
              "      <th>bedrooms</th>\n",
              "      <th>bathrooms</th>\n",
              "      <th>sqrt_ft</th>\n",
              "      <th>garage</th>\n",
              "      <th>kitchen_features</th>\n",
              "      <th>fireplaces</th>\n",
              "      <th>floor_covering</th>\n",
              "      <th>HOA</th>\n",
              "    </tr>\n",
              "  </thead>\n",
              "  <tbody>\n",
              "    <tr>\n",
              "      <th>635</th>\n",
              "      <td>895000.0</td>\n",
              "      <td>85749</td>\n",
              "      <td>-110.799667</td>\n",
              "      <td>32.253627</td>\n",
              "      <td>11.57</td>\n",
              "      <td>26110.00</td>\n",
              "      <td>1948</td>\n",
              "      <td>19</td>\n",
              "      <td>18</td>\n",
              "      <td>12154.0</td>\n",
              "      <td>0</td>\n",
              "      <td>Dishwasher, Garbage Disposal, Pantry: Walk-In,...</td>\n",
              "      <td>3</td>\n",
              "      <td>Carpet, Mexican Tile, Other: Multiple Types</td>\n",
              "      <td>0.0</td>\n",
              "    </tr>\n",
              "    <tr>\n",
              "      <th>969</th>\n",
              "      <td>950000.0</td>\n",
              "      <td>85712</td>\n",
              "      <td>-110.894127</td>\n",
              "      <td>32.238608</td>\n",
              "      <td>0.49</td>\n",
              "      <td>2623.23</td>\n",
              "      <td>1953</td>\n",
              "      <td>18</td>\n",
              "      <td>14</td>\n",
              "      <td>2850.0</td>\n",
              "      <td>0</td>\n",
              "      <td>0</td>\n",
              "      <td>0</td>\n",
              "      <td>Carpet</td>\n",
              "      <td>0.0</td>\n",
              "    </tr>\n",
              "    <tr>\n",
              "      <th>2106</th>\n",
              "      <td>550000.0</td>\n",
              "      <td>85645</td>\n",
              "      <td>-111.047608</td>\n",
              "      <td>31.700763</td>\n",
              "      <td>50.00</td>\n",
              "      <td>25113.45</td>\n",
              "      <td>1936</td>\n",
              "      <td>36</td>\n",
              "      <td>35</td>\n",
              "      <td>0.0</td>\n",
              "      <td>0</td>\n",
              "      <td>Prep Sink</td>\n",
              "      <td>1</td>\n",
              "      <td>Ceramic Tile, Mexican Tile</td>\n",
              "      <td>0.0</td>\n",
              "    </tr>\n",
              "    <tr>\n",
              "      <th>2111</th>\n",
              "      <td>550000.0</td>\n",
              "      <td>85645</td>\n",
              "      <td>-111.047350</td>\n",
              "      <td>31.701117</td>\n",
              "      <td>50.00</td>\n",
              "      <td>25113.45</td>\n",
              "      <td>1936</td>\n",
              "      <td>36</td>\n",
              "      <td>35</td>\n",
              "      <td>22408.0</td>\n",
              "      <td>0</td>\n",
              "      <td>Countertops: Stainless</td>\n",
              "      <td>1</td>\n",
              "      <td>Ceramic Tile, Mexican Tile</td>\n",
              "      <td>0.0</td>\n",
              "    </tr>\n",
              "    <tr>\n",
              "      <th>3277</th>\n",
              "      <td>695000.0</td>\n",
              "      <td>85645</td>\n",
              "      <td>-111.047260</td>\n",
              "      <td>31.701407</td>\n",
              "      <td>50.00</td>\n",
              "      <td>6520.66</td>\n",
              "      <td>1936</td>\n",
              "      <td>36</td>\n",
              "      <td>35</td>\n",
              "      <td>21915.0</td>\n",
              "      <td>0</td>\n",
              "      <td>Refrigerator</td>\n",
              "      <td>1</td>\n",
              "      <td>Ceramic Tile, Mexican Tile</td>\n",
              "      <td>0.0</td>\n",
              "    </tr>\n",
              "  </tbody>\n",
              "</table>\n",
              "</div>"
            ],
            "text/plain": [
              "      sold_price  zipcode  ...                               floor_covering  HOA\n",
              "635     895000.0    85749  ...  Carpet, Mexican Tile, Other: Multiple Types  0.0\n",
              "969     950000.0    85712  ...                                       Carpet  0.0\n",
              "2106    550000.0    85645  ...                   Ceramic Tile, Mexican Tile  0.0\n",
              "2111    550000.0    85645  ...                   Ceramic Tile, Mexican Tile  0.0\n",
              "3277    695000.0    85645  ...                   Ceramic Tile, Mexican Tile  0.0\n",
              "\n",
              "[5 rows x 15 columns]"
            ]
          },
          "metadata": {
            "tags": []
          },
          "execution_count": 69
        }
      ]
    },
    {
      "cell_type": "code",
      "metadata": {
        "id": "Gj4mfQeHwQ76",
        "colab": {
          "base_uri": "https://localhost:8080/",
          "height": 265
        },
        "outputId": "7e4d71d6-2557-4c5e-eac3-84f74608b6af"
      },
      "source": [
        "#Detecting outliers in garage\n",
        "plt.hist(df.garage)\n",
        "plt.show()"
      ],
      "execution_count": null,
      "outputs": [
        {
          "output_type": "display_data",
          "data": {
            "image/png": "[encoded data removed]",
            "text/plain": [
              "<Figure size 432x288 with 1 Axes>"
            ]
          },
          "metadata": {
            "tags": [],
            "needs_background": "light"
          }
        }
      ]
    },
    {
      "cell_type": "code",
      "metadata": {
        "id": "XosGFFYGwlxL",
        "colab": {
          "base_uri": "https://localhost:8080/"
        },
        "outputId": "ef2670e7-6435-45ad-9c2b-3286c6dc7243"
      },
      "source": [
        "#number of records where number of garages is greater than 6\n",
        "(df[df['garage'] > 6]).shape"
      ],
      "execution_count": null,
      "outputs": [
        {
          "output_type": "execute_result",
          "data": {
            "text/plain": [
              "(45, 15)"
            ]
          },
          "metadata": {
            "tags": []
          },
          "execution_count": 71
        }
      ]
    },
    {
      "cell_type": "code",
      "metadata": {
        "id": "jwCOEhju0Fpj",
        "colab": {
          "base_uri": "https://localhost:8080/",
          "height": 971
        },
        "outputId": "1690d595-76a3-474a-be6e-804f40be0136"
      },
      "source": [
        "#Assumption: The number of garages will not exceed twice the number of bedrooms. e.g: if a house has 4 bedrooms, the number of garages will not be more than 8.\n",
        "\n",
        "#number of records where number of garages are greater than twice the number of bedrooms\n",
        "(df[((df['garage']) > (2*(df['bedrooms'])))])"
      ],
      "execution_count": null,
      "outputs": [
        {
          "output_type": "execute_result",
          "data": {
            "text/html": [
              "<div>\n",
              "<style scoped>\n",
              "    .dataframe tbody tr th:only-of-type {\n",
              "        vertical-align: middle;\n",
              "    }\n",
              "\n",
              "    .dataframe tbody tr th {\n",
              "        vertical-align: top;\n",
              "    }\n",
              "\n",
              "    .dataframe thead th {\n",
              "        text-align: right;\n",
              "    }\n",
              "</style>\n",
              "<table border=\"1\" class=\"dataframe\">\n",
              "  <thead>\n",
              "    <tr style=\"text-align: right;\">\n",
              "      <th></th>\n",
              "      <th>sold_price</th>\n",
              "      <th>zipcode</th>\n",
              "      <th>longitude</th>\n",
              "      <th>latitude</th>\n",
              "      <th>lot_acres</th>\n",
              "      <th>taxes</th>\n",
              "      <th>year_built</th>\n",
              "      <th>bedrooms</th>\n",
              "      <th>bathrooms</th>\n",
              "      <th>sqrt_ft</th>\n",
              "      <th>garage</th>\n",
              "      <th>kitchen_features</th>\n",
              "      <th>fireplaces</th>\n",
              "      <th>floor_covering</th>\n",
              "      <th>HOA</th>\n",
              "    </tr>\n",
              "  </thead>\n",
              "  <tbody>\n",
              "    <tr>\n",
              "      <th>140</th>\n",
              "      <td>1695000.0</td>\n",
              "      <td>85742</td>\n",
              "      <td>-111.034883</td>\n",
              "      <td>32.441422</td>\n",
              "      <td>4.58</td>\n",
              "      <td>19488.82</td>\n",
              "      <td>2004</td>\n",
              "      <td>6</td>\n",
              "      <td>6</td>\n",
              "      <td>6923.0</td>\n",
              "      <td>15</td>\n",
              "      <td>Dishwasher, Double Sink, Garbage Disposal, Ind...</td>\n",
              "      <td>5</td>\n",
              "      <td>Natural Stone</td>\n",
              "      <td>0.0</td>\n",
              "    </tr>\n",
              "    <tr>\n",
              "      <th>287</th>\n",
              "      <td>910000.0</td>\n",
              "      <td>85637</td>\n",
              "      <td>-110.742582</td>\n",
              "      <td>31.631884</td>\n",
              "      <td>58.00</td>\n",
              "      <td>4630.00</td>\n",
              "      <td>1987</td>\n",
              "      <td>3</td>\n",
              "      <td>3</td>\n",
              "      <td>3440.0</td>\n",
              "      <td>7</td>\n",
              "      <td>Dishwasher, Garbage Disposal, Refrigerator, Mi...</td>\n",
              "      <td>3</td>\n",
              "      <td>Carpet, Ceramic Tile, Mexican Tile</td>\n",
              "      <td>130.0</td>\n",
              "    </tr>\n",
              "    <tr>\n",
              "      <th>839</th>\n",
              "      <td>940000.0</td>\n",
              "      <td>85755</td>\n",
              "      <td>-111.011025</td>\n",
              "      <td>32.442192</td>\n",
              "      <td>7.22</td>\n",
              "      <td>14127.99</td>\n",
              "      <td>1997</td>\n",
              "      <td>4</td>\n",
              "      <td>3</td>\n",
              "      <td>4797.0</td>\n",
              "      <td>9</td>\n",
              "      <td>Dishwasher, Garbage Disposal, Refrigerator</td>\n",
              "      <td>4</td>\n",
              "      <td>Natural Stone, Wood</td>\n",
              "      <td>41.0</td>\n",
              "    </tr>\n",
              "    <tr>\n",
              "      <th>905</th>\n",
              "      <td>825000.0</td>\n",
              "      <td>85745</td>\n",
              "      <td>-111.103561</td>\n",
              "      <td>32.264041</td>\n",
              "      <td>24.92</td>\n",
              "      <td>16165.77</td>\n",
              "      <td>2005</td>\n",
              "      <td>5</td>\n",
              "      <td>6</td>\n",
              "      <td>5937.0</td>\n",
              "      <td>22</td>\n",
              "      <td>Dishwasher, Garbage Disposal, Microwave, Oven</td>\n",
              "      <td>3</td>\n",
              "      <td>Carpet, Concrete</td>\n",
              "      <td>0.0</td>\n",
              "    </tr>\n",
              "    <tr>\n",
              "      <th>913</th>\n",
              "      <td>920000.0</td>\n",
              "      <td>85742</td>\n",
              "      <td>-111.073328</td>\n",
              "      <td>32.409550</td>\n",
              "      <td>1.16</td>\n",
              "      <td>6574.74</td>\n",
              "      <td>2010</td>\n",
              "      <td>4</td>\n",
              "      <td>5</td>\n",
              "      <td>5041.0</td>\n",
              "      <td>9</td>\n",
              "      <td>Dishwasher, Double Sink, Freezer, Garbage Disp...</td>\n",
              "      <td>4</td>\n",
              "      <td>Carpet, Ceramic Tile</td>\n",
              "      <td>0.0</td>\n",
              "    </tr>\n",
              "    <tr>\n",
              "      <th>1304</th>\n",
              "      <td>820000.0</td>\n",
              "      <td>85755</td>\n",
              "      <td>-111.000147</td>\n",
              "      <td>32.441730</td>\n",
              "      <td>7.27</td>\n",
              "      <td>10235.00</td>\n",
              "      <td>1981</td>\n",
              "      <td>3</td>\n",
              "      <td>4</td>\n",
              "      <td>2853.0</td>\n",
              "      <td>9</td>\n",
              "      <td>Compactor, Dishwasher, Garbage Disposal, Refri...</td>\n",
              "      <td>2</td>\n",
              "      <td>Carpet, Mexican Tile</td>\n",
              "      <td>42.0</td>\n",
              "    </tr>\n",
              "    <tr>\n",
              "      <th>1395</th>\n",
              "      <td>834500.0</td>\n",
              "      <td>85755</td>\n",
              "      <td>-110.998048</td>\n",
              "      <td>32.445990</td>\n",
              "      <td>8.11</td>\n",
              "      <td>6551.00</td>\n",
              "      <td>1985</td>\n",
              "      <td>3</td>\n",
              "      <td>4</td>\n",
              "      <td>2969.0</td>\n",
              "      <td>8</td>\n",
              "      <td>Dishwasher, Garbage Disposal, Microwave, Oven</td>\n",
              "      <td>2</td>\n",
              "      <td>Mexican Tile, Natural Stone</td>\n",
              "      <td>42.0</td>\n",
              "    </tr>\n",
              "    <tr>\n",
              "      <th>1505</th>\n",
              "      <td>817034.0</td>\n",
              "      <td>85755</td>\n",
              "      <td>-110.984403</td>\n",
              "      <td>32.464579</td>\n",
              "      <td>0.24</td>\n",
              "      <td>416.45</td>\n",
              "      <td>2016</td>\n",
              "      <td>2</td>\n",
              "      <td>3</td>\n",
              "      <td>2880.0</td>\n",
              "      <td>30</td>\n",
              "      <td>Dishwasher, Freezer, Garbage Disposal, Refrige...</td>\n",
              "      <td>0</td>\n",
              "      <td>Carpet, Ceramic Tile</td>\n",
              "      <td>167.0</td>\n",
              "    </tr>\n",
              "    <tr>\n",
              "      <th>1560</th>\n",
              "      <td>785000.0</td>\n",
              "      <td>85749</td>\n",
              "      <td>-110.756365</td>\n",
              "      <td>32.268453</td>\n",
              "      <td>8.77</td>\n",
              "      <td>9313.08</td>\n",
              "      <td>1975</td>\n",
              "      <td>4</td>\n",
              "      <td>3</td>\n",
              "      <td>3598.0</td>\n",
              "      <td>12</td>\n",
              "      <td>Compactor, Desk, Dishwasher, Double Sink, Elec...</td>\n",
              "      <td>3</td>\n",
              "      <td>Carpet, Ceramic Tile</td>\n",
              "      <td>0.0</td>\n",
              "    </tr>\n",
              "    <tr>\n",
              "      <th>2713</th>\n",
              "      <td>685000.0</td>\n",
              "      <td>85749</td>\n",
              "      <td>-110.755687</td>\n",
              "      <td>32.303589</td>\n",
              "      <td>3.31</td>\n",
              "      <td>6845.07</td>\n",
              "      <td>2003</td>\n",
              "      <td>3</td>\n",
              "      <td>4</td>\n",
              "      <td>2854.0</td>\n",
              "      <td>12</td>\n",
              "      <td>Dishwasher, Electric Range, Garbage Disposal, ...</td>\n",
              "      <td>1</td>\n",
              "      <td>Carpet, Ceramic Tile, Wood</td>\n",
              "      <td>0.0</td>\n",
              "    </tr>\n",
              "    <tr>\n",
              "      <th>2961</th>\n",
              "      <td>620000.0</td>\n",
              "      <td>85641</td>\n",
              "      <td>-110.728920</td>\n",
              "      <td>31.920157</td>\n",
              "      <td>8.37</td>\n",
              "      <td>5128.38</td>\n",
              "      <td>2001</td>\n",
              "      <td>3</td>\n",
              "      <td>3</td>\n",
              "      <td>3248.0</td>\n",
              "      <td>12</td>\n",
              "      <td>Desk, Dishwasher, Double Sink, Electric Range,...</td>\n",
              "      <td>1</td>\n",
              "      <td>Ceramic Tile</td>\n",
              "      <td>0.0</td>\n",
              "    </tr>\n",
              "    <tr>\n",
              "      <th>3074</th>\n",
              "      <td>620000.0</td>\n",
              "      <td>85750</td>\n",
              "      <td>-110.811321</td>\n",
              "      <td>32.273628</td>\n",
              "      <td>3.31</td>\n",
              "      <td>7079.87</td>\n",
              "      <td>1978</td>\n",
              "      <td>4</td>\n",
              "      <td>3</td>\n",
              "      <td>3117.0</td>\n",
              "      <td>10</td>\n",
              "      <td>Desk, Double Sink, Electric Range, Island, Laz...</td>\n",
              "      <td>2</td>\n",
              "      <td>Ceramic Tile, Mexican Tile, Wood</td>\n",
              "      <td>0.0</td>\n",
              "    </tr>\n",
              "    <tr>\n",
              "      <th>3117</th>\n",
              "      <td>653500.0</td>\n",
              "      <td>85641</td>\n",
              "      <td>-110.798333</td>\n",
              "      <td>31.950973</td>\n",
              "      <td>4.16</td>\n",
              "      <td>7999.74</td>\n",
              "      <td>2005</td>\n",
              "      <td>3</td>\n",
              "      <td>3</td>\n",
              "      <td>4162.0</td>\n",
              "      <td>7</td>\n",
              "      <td>Dishwasher, Double Sink, Garbage Disposal, Gas...</td>\n",
              "      <td>2</td>\n",
              "      <td>Ceramic Tile, Wood</td>\n",
              "      <td>60.5</td>\n",
              "    </tr>\n",
              "    <tr>\n",
              "      <th>3200</th>\n",
              "      <td>636000.0</td>\n",
              "      <td>85737</td>\n",
              "      <td>-110.992858</td>\n",
              "      <td>32.402046</td>\n",
              "      <td>1.41</td>\n",
              "      <td>7431.24</td>\n",
              "      <td>2000</td>\n",
              "      <td>3</td>\n",
              "      <td>3</td>\n",
              "      <td>3518.0</td>\n",
              "      <td>7</td>\n",
              "      <td>Dishwasher, Garbage Disposal, Refrigerator, Mi...</td>\n",
              "      <td>3</td>\n",
              "      <td>Carpet, Mexican Tile</td>\n",
              "      <td>45.0</td>\n",
              "    </tr>\n",
              "    <tr>\n",
              "      <th>3657</th>\n",
              "      <td>555000.0</td>\n",
              "      <td>85748</td>\n",
              "      <td>-110.754778</td>\n",
              "      <td>32.230921</td>\n",
              "      <td>3.47</td>\n",
              "      <td>5797.22</td>\n",
              "      <td>2005</td>\n",
              "      <td>4</td>\n",
              "      <td>4</td>\n",
              "      <td>3448.0</td>\n",
              "      <td>9</td>\n",
              "      <td>Dishwasher, Garbage Disposal, Refrigerator, Mi...</td>\n",
              "      <td>1</td>\n",
              "      <td>Carpet, Ceramic Tile</td>\n",
              "      <td>0.0</td>\n",
              "    </tr>\n",
              "    <tr>\n",
              "      <th>3974</th>\n",
              "      <td>540000.0</td>\n",
              "      <td>85749</td>\n",
              "      <td>-110.780466</td>\n",
              "      <td>32.251520</td>\n",
              "      <td>1.49</td>\n",
              "      <td>4034.02</td>\n",
              "      <td>1989</td>\n",
              "      <td>4</td>\n",
              "      <td>4</td>\n",
              "      <td>3033.0</td>\n",
              "      <td>11</td>\n",
              "      <td>Dishwasher, Double Sink, Garbage Disposal, Laz...</td>\n",
              "      <td>1</td>\n",
              "      <td>Natural Stone</td>\n",
              "      <td>0.0</td>\n",
              "    </tr>\n",
              "    <tr>\n",
              "      <th>4186</th>\n",
              "      <td>589000.0</td>\n",
              "      <td>85637</td>\n",
              "      <td>-110.653704</td>\n",
              "      <td>31.742981</td>\n",
              "      <td>15.05</td>\n",
              "      <td>5846.05</td>\n",
              "      <td>2003</td>\n",
              "      <td>2</td>\n",
              "      <td>3</td>\n",
              "      <td>3306.0</td>\n",
              "      <td>6</td>\n",
              "      <td>Dishwasher, Freezer, Refrigerator</td>\n",
              "      <td>1</td>\n",
              "      <td>Concrete</td>\n",
              "      <td>0.0</td>\n",
              "    </tr>\n",
              "    <tr>\n",
              "      <th>4455</th>\n",
              "      <td>550000.0</td>\n",
              "      <td>85730</td>\n",
              "      <td>-110.756556</td>\n",
              "      <td>32.181148</td>\n",
              "      <td>9.10</td>\n",
              "      <td>6656.60</td>\n",
              "      <td>1960</td>\n",
              "      <td>7</td>\n",
              "      <td>5</td>\n",
              "      <td>4072.0</td>\n",
              "      <td>20</td>\n",
              "      <td>Compactor, Dishwasher, Garbage Disposal, Refri...</td>\n",
              "      <td>2</td>\n",
              "      <td>Carpet, Ceramic Tile, Mexican Tile, Other</td>\n",
              "      <td>0.0</td>\n",
              "    </tr>\n",
              "    <tr>\n",
              "      <th>4509</th>\n",
              "      <td>540000.0</td>\n",
              "      <td>85745</td>\n",
              "      <td>-111.043189</td>\n",
              "      <td>32.277521</td>\n",
              "      <td>3.34</td>\n",
              "      <td>5698.50</td>\n",
              "      <td>2004</td>\n",
              "      <td>4</td>\n",
              "      <td>4</td>\n",
              "      <td>3258.0</td>\n",
              "      <td>9</td>\n",
              "      <td>Compactor, Desk, Dishwasher, Double Sink, Elec...</td>\n",
              "      <td>1</td>\n",
              "      <td>Carpet, Ceramic Tile</td>\n",
              "      <td>0.0</td>\n",
              "    </tr>\n",
              "    <tr>\n",
              "      <th>4759</th>\n",
              "      <td>560000.0</td>\n",
              "      <td>85742</td>\n",
              "      <td>-111.054465</td>\n",
              "      <td>32.383574</td>\n",
              "      <td>9.55</td>\n",
              "      <td>9348.83</td>\n",
              "      <td>1982</td>\n",
              "      <td>4</td>\n",
              "      <td>5</td>\n",
              "      <td>4282.0</td>\n",
              "      <td>13</td>\n",
              "      <td>Dishwasher, Garbage Disposal, Gas Range, Lazy ...</td>\n",
              "      <td>1</td>\n",
              "      <td>Carpet, Ceramic Tile, Natural Stone</td>\n",
              "      <td>0.0</td>\n",
              "    </tr>\n",
              "  </tbody>\n",
              "</table>\n",
              "</div>"
            ],
            "text/plain": [
              "      sold_price  zipcode  ...                             floor_covering    HOA\n",
              "140    1695000.0    85742  ...                              Natural Stone    0.0\n",
              "287     910000.0    85637  ...         Carpet, Ceramic Tile, Mexican Tile  130.0\n",
              "839     940000.0    85755  ...                        Natural Stone, Wood   41.0\n",
              "905     825000.0    85745  ...                           Carpet, Concrete    0.0\n",
              "913     920000.0    85742  ...                       Carpet, Ceramic Tile    0.0\n",
              "1304    820000.0    85755  ...                       Carpet, Mexican Tile   42.0\n",
              "1395    834500.0    85755  ...                Mexican Tile, Natural Stone   42.0\n",
              "1505    817034.0    85755  ...                       Carpet, Ceramic Tile  167.0\n",
              "1560    785000.0    85749  ...                       Carpet, Ceramic Tile    0.0\n",
              "2713    685000.0    85749  ...                 Carpet, Ceramic Tile, Wood    0.0\n",
              "2961    620000.0    85641  ...                               Ceramic Tile    0.0\n",
              "3074    620000.0    85750  ...           Ceramic Tile, Mexican Tile, Wood    0.0\n",
              "3117    653500.0    85641  ...                         Ceramic Tile, Wood   60.5\n",
              "3200    636000.0    85737  ...                       Carpet, Mexican Tile   45.0\n",
              "3657    555000.0    85748  ...                       Carpet, Ceramic Tile    0.0\n",
              "3974    540000.0    85749  ...                              Natural Stone    0.0\n",
              "4186    589000.0    85637  ...                                   Concrete    0.0\n",
              "4455    550000.0    85730  ...  Carpet, Ceramic Tile, Mexican Tile, Other    0.0\n",
              "4509    540000.0    85745  ...                       Carpet, Ceramic Tile    0.0\n",
              "4759    560000.0    85742  ...        Carpet, Ceramic Tile, Natural Stone    0.0\n",
              "\n",
              "[20 rows x 15 columns]"
            ]
          },
          "metadata": {
            "tags": []
          },
          "execution_count": 72
        }
      ]
    },
    {
      "cell_type": "code",
      "metadata": {
        "id": "Ue6d4dy41hQF",
        "colab": {
          "base_uri": "https://localhost:8080/"
        },
        "outputId": "84dffa6f-eaec-4f00-cf57-28ebc4ea5cda"
      },
      "source": [
        "#size of dataset\n",
        "df.shape"
      ],
      "execution_count": null,
      "outputs": [
        {
          "output_type": "execute_result",
          "data": {
            "text/plain": [
              "(4888, 15)"
            ]
          },
          "metadata": {
            "tags": []
          },
          "execution_count": 73
        }
      ]
    },
    {
      "cell_type": "code",
      "metadata": {
        "id": "hLzeGWxeyDQx"
      },
      "source": [
        "#dropping the record with ridiculous garage:bedroom ratio\n",
        "df = df.drop(df[((df['garage']) > (3*(df['bedrooms']))) ].index)"
      ],
      "execution_count": null,
      "outputs": []
    },
    {
      "cell_type": "code",
      "metadata": {
        "id": "fUFdVMwz1kQ5",
        "colab": {
          "base_uri": "https://localhost:8080/"
        },
        "outputId": "cc757bdf-90c7-47bd-a729-480b8523497e"
      },
      "source": [
        "#size of dataset\n",
        "df.shape"
      ],
      "execution_count": null,
      "outputs": [
        {
          "output_type": "execute_result",
          "data": {
            "text/plain": [
              "(4883, 15)"
            ]
          },
          "metadata": {
            "tags": []
          },
          "execution_count": 75
        }
      ]
    },
    {
      "cell_type": "code",
      "metadata": {
        "id": "aegC3qE81nbX",
        "colab": {
          "base_uri": "https://localhost:8080/",
          "height": 265
        },
        "outputId": "b247a66b-2d41-4288-929b-e125e8bf222e"
      },
      "source": [
        "#Detecting outliers in garage\n",
        "plt.hist(df.garage)\n",
        "plt.show()"
      ],
      "execution_count": null,
      "outputs": [
        {
          "output_type": "display_data",
          "data": {
            "image/png": "[encoded data removed]",
            "text/plain": [
              "<Figure size 432x288 with 1 Axes>"
            ]
          },
          "metadata": {
            "tags": [],
            "needs_background": "light"
          }
        }
      ]
    },
    {
      "cell_type": "code",
      "metadata": {
        "id": "tsL_kgAX1rFt",
        "colab": {
          "base_uri": "https://localhost:8080/",
          "height": 240
        },
        "outputId": "59713d6b-c6c2-490c-e237-46240e2cd2b8"
      },
      "source": [
        "#subset of records where number of garages are more than 10\n",
        "(df[df['garage'] > 10])"
      ],
      "execution_count": null,
      "outputs": [
        {
          "output_type": "execute_result",
          "data": {
            "text/html": [
              "<div>\n",
              "<style scoped>\n",
              "    .dataframe tbody tr th:only-of-type {\n",
              "        vertical-align: middle;\n",
              "    }\n",
              "\n",
              "    .dataframe tbody tr th {\n",
              "        vertical-align: top;\n",
              "    }\n",
              "\n",
              "    .dataframe thead th {\n",
              "        text-align: right;\n",
              "    }\n",
              "</style>\n",
              "<table border=\"1\" class=\"dataframe\">\n",
              "  <thead>\n",
              "    <tr style=\"text-align: right;\">\n",
              "      <th></th>\n",
              "      <th>sold_price</th>\n",
              "      <th>zipcode</th>\n",
              "      <th>longitude</th>\n",
              "      <th>latitude</th>\n",
              "      <th>lot_acres</th>\n",
              "      <th>taxes</th>\n",
              "      <th>year_built</th>\n",
              "      <th>bedrooms</th>\n",
              "      <th>bathrooms</th>\n",
              "      <th>sqrt_ft</th>\n",
              "      <th>garage</th>\n",
              "      <th>kitchen_features</th>\n",
              "      <th>fireplaces</th>\n",
              "      <th>floor_covering</th>\n",
              "      <th>HOA</th>\n",
              "    </tr>\n",
              "  </thead>\n",
              "  <tbody>\n",
              "    <tr>\n",
              "      <th>140</th>\n",
              "      <td>1695000.0</td>\n",
              "      <td>85742</td>\n",
              "      <td>-111.034883</td>\n",
              "      <td>32.441422</td>\n",
              "      <td>4.58</td>\n",
              "      <td>19488.82</td>\n",
              "      <td>2004</td>\n",
              "      <td>6</td>\n",
              "      <td>6</td>\n",
              "      <td>6923.0</td>\n",
              "      <td>15</td>\n",
              "      <td>Dishwasher, Double Sink, Garbage Disposal, Ind...</td>\n",
              "      <td>5</td>\n",
              "      <td>Natural Stone</td>\n",
              "      <td>0.0</td>\n",
              "    </tr>\n",
              "    <tr>\n",
              "      <th>1560</th>\n",
              "      <td>785000.0</td>\n",
              "      <td>85749</td>\n",
              "      <td>-110.756365</td>\n",
              "      <td>32.268453</td>\n",
              "      <td>8.77</td>\n",
              "      <td>9313.08</td>\n",
              "      <td>1975</td>\n",
              "      <td>4</td>\n",
              "      <td>3</td>\n",
              "      <td>3598.0</td>\n",
              "      <td>12</td>\n",
              "      <td>Compactor, Desk, Dishwasher, Double Sink, Elec...</td>\n",
              "      <td>3</td>\n",
              "      <td>Carpet, Ceramic Tile</td>\n",
              "      <td>0.0</td>\n",
              "    </tr>\n",
              "    <tr>\n",
              "      <th>3974</th>\n",
              "      <td>540000.0</td>\n",
              "      <td>85749</td>\n",
              "      <td>-110.780466</td>\n",
              "      <td>32.251520</td>\n",
              "      <td>1.49</td>\n",
              "      <td>4034.02</td>\n",
              "      <td>1989</td>\n",
              "      <td>4</td>\n",
              "      <td>4</td>\n",
              "      <td>3033.0</td>\n",
              "      <td>11</td>\n",
              "      <td>Dishwasher, Double Sink, Garbage Disposal, Laz...</td>\n",
              "      <td>1</td>\n",
              "      <td>Natural Stone</td>\n",
              "      <td>0.0</td>\n",
              "    </tr>\n",
              "    <tr>\n",
              "      <th>4455</th>\n",
              "      <td>550000.0</td>\n",
              "      <td>85730</td>\n",
              "      <td>-110.756556</td>\n",
              "      <td>32.181148</td>\n",
              "      <td>9.10</td>\n",
              "      <td>6656.60</td>\n",
              "      <td>1960</td>\n",
              "      <td>7</td>\n",
              "      <td>5</td>\n",
              "      <td>4072.0</td>\n",
              "      <td>20</td>\n",
              "      <td>Compactor, Dishwasher, Garbage Disposal, Refri...</td>\n",
              "      <td>2</td>\n",
              "      <td>Carpet, Ceramic Tile, Mexican Tile, Other</td>\n",
              "      <td>0.0</td>\n",
              "    </tr>\n",
              "  </tbody>\n",
              "</table>\n",
              "</div>"
            ],
            "text/plain": [
              "      sold_price  zipcode  ...                             floor_covering  HOA\n",
              "140    1695000.0    85742  ...                              Natural Stone  0.0\n",
              "1560    785000.0    85749  ...                       Carpet, Ceramic Tile  0.0\n",
              "3974    540000.0    85749  ...                              Natural Stone  0.0\n",
              "4455    550000.0    85730  ...  Carpet, Ceramic Tile, Mexican Tile, Other  0.0\n",
              "\n",
              "[4 rows x 15 columns]"
            ]
          },
          "metadata": {
            "tags": []
          },
          "execution_count": 77
        }
      ]
    },
    {
      "cell_type": "code",
      "metadata": {
        "id": "o82S8OLOGjhx",
        "colab": {
          "base_uri": "https://localhost:8080/"
        },
        "outputId": "d6da8398-d5b6-4e35-ba7c-f28822513797"
      },
      "source": [
        "#view dataset info\n",
        "df.info()"
      ],
      "execution_count": null,
      "outputs": [
        {
          "output_type": "stream",
          "text": [
            "<class 'pandas.core.frame.DataFrame'>\n",
            "Int64Index: 4883 entries, 0 to 4999\n",
            "Data columns (total 15 columns):\n",
            " #   Column            Non-Null Count  Dtype  \n",
            "---  ------            --------------  -----  \n",
            " 0   sold_price        4883 non-null   float64\n",
            " 1   zipcode           4883 non-null   int64  \n",
            " 2   longitude         4883 non-null   float64\n",
            " 3   latitude          4883 non-null   float64\n",
            " 4   lot_acres         4883 non-null   float64\n",
            " 5   taxes             4883 non-null   float64\n",
            " 6   year_built        4883 non-null   int64  \n",
            " 7   bedrooms          4883 non-null   int64  \n",
            " 8   bathrooms         4883 non-null   int64  \n",
            " 9   sqrt_ft           4883 non-null   float64\n",
            " 10  garage            4883 non-null   int64  \n",
            " 11  kitchen_features  4883 non-null   object \n",
            " 12  fireplaces        4883 non-null   int64  \n",
            " 13  floor_covering    4883 non-null   object \n",
            " 14  HOA               4883 non-null   float64\n",
            "dtypes: float64(7), int64(6), object(2)\n",
            "memory usage: 610.4+ KB\n"
          ],
          "name": "stdout"
        }
      ]
    },
    {
      "cell_type": "code",
      "metadata": {
        "id": "aU4Hc-54ZkvH",
        "colab": {
          "base_uri": "https://localhost:8080/",
          "height": 265
        },
        "outputId": "2be687a4-f4ae-4aa9-c3ff-e8c82bffa479"
      },
      "source": [
        "#Detecting outliers in HOA\n",
        "plt.hist(df.HOA)\n",
        "plt.show()"
      ],
      "execution_count": null,
      "outputs": [
        {
          "output_type": "display_data",
          "data": {
            "image/png": "[encoded data removed]",
            "text/plain": [
              "<Figure size 432x288 with 1 Axes>"
            ]
          },
          "metadata": {
            "tags": [],
            "needs_background": "light"
          }
        }
      ]
    },
    {
      "cell_type": "code",
      "metadata": {
        "id": "T6PQK8PUZu2a",
        "colab": {
          "base_uri": "https://localhost:8080/",
          "height": 271
        },
        "outputId": "7bd6fb74-3caf-4035-d252-881daea9f0f7"
      },
      "source": [
        "#subset of records where HOA value is greater than 2500\n",
        "(df[df['HOA'] > 2500])"
      ],
      "execution_count": null,
      "outputs": [
        {
          "output_type": "execute_result",
          "data": {
            "text/html": [
              "<div>\n",
              "<style scoped>\n",
              "    .dataframe tbody tr th:only-of-type {\n",
              "        vertical-align: middle;\n",
              "    }\n",
              "\n",
              "    .dataframe tbody tr th {\n",
              "        vertical-align: top;\n",
              "    }\n",
              "\n",
              "    .dataframe thead th {\n",
              "        text-align: right;\n",
              "    }\n",
              "</style>\n",
              "<table border=\"1\" class=\"dataframe\">\n",
              "  <thead>\n",
              "    <tr style=\"text-align: right;\">\n",
              "      <th></th>\n",
              "      <th>sold_price</th>\n",
              "      <th>zipcode</th>\n",
              "      <th>longitude</th>\n",
              "      <th>latitude</th>\n",
              "      <th>lot_acres</th>\n",
              "      <th>taxes</th>\n",
              "      <th>year_built</th>\n",
              "      <th>bedrooms</th>\n",
              "      <th>bathrooms</th>\n",
              "      <th>sqrt_ft</th>\n",
              "      <th>garage</th>\n",
              "      <th>kitchen_features</th>\n",
              "      <th>fireplaces</th>\n",
              "      <th>floor_covering</th>\n",
              "      <th>HOA</th>\n",
              "    </tr>\n",
              "  </thead>\n",
              "  <tbody>\n",
              "    <tr>\n",
              "      <th>14</th>\n",
              "      <td>3000000.0</td>\n",
              "      <td>85739</td>\n",
              "      <td>-110.883068</td>\n",
              "      <td>32.508778</td>\n",
              "      <td>0.00</td>\n",
              "      <td>29669.00</td>\n",
              "      <td>2008</td>\n",
              "      <td>3</td>\n",
              "      <td>3</td>\n",
              "      <td>3095.0</td>\n",
              "      <td>0</td>\n",
              "      <td>Dishwasher, Garbage Disposal, Refrigerator, Mi...</td>\n",
              "      <td>3</td>\n",
              "      <td>Natural Stone, Wood</td>\n",
              "      <td>20000.0</td>\n",
              "    </tr>\n",
              "    <tr>\n",
              "      <th>53</th>\n",
              "      <td>2150000.0</td>\n",
              "      <td>85739</td>\n",
              "      <td>-110.883660</td>\n",
              "      <td>32.509721</td>\n",
              "      <td>0.00</td>\n",
              "      <td>19060.81</td>\n",
              "      <td>2008</td>\n",
              "      <td>2</td>\n",
              "      <td>3</td>\n",
              "      <td>2729.0</td>\n",
              "      <td>0</td>\n",
              "      <td>Dishwasher, Garbage Disposal, Refrigerator, Mi...</td>\n",
              "      <td>2</td>\n",
              "      <td>Natural Stone, Wood</td>\n",
              "      <td>20000.0</td>\n",
              "    </tr>\n",
              "    <tr>\n",
              "      <th>257</th>\n",
              "      <td>1494392.0</td>\n",
              "      <td>85755</td>\n",
              "      <td>-110.987649</td>\n",
              "      <td>32.461126</td>\n",
              "      <td>1.85</td>\n",
              "      <td>3330.03</td>\n",
              "      <td>2017</td>\n",
              "      <td>3</td>\n",
              "      <td>4</td>\n",
              "      <td>3339.0</td>\n",
              "      <td>3</td>\n",
              "      <td>Dishwasher, Garbage Disposal</td>\n",
              "      <td>1</td>\n",
              "      <td>Carpet, Natural Stone</td>\n",
              "      <td>19480.0</td>\n",
              "    </tr>\n",
              "    <tr>\n",
              "      <th>2860</th>\n",
              "      <td>606500.0</td>\n",
              "      <td>85629</td>\n",
              "      <td>-110.960680</td>\n",
              "      <td>31.867265</td>\n",
              "      <td>0.17</td>\n",
              "      <td>792.22</td>\n",
              "      <td>2014</td>\n",
              "      <td>5</td>\n",
              "      <td>5</td>\n",
              "      <td>4019.0</td>\n",
              "      <td>3</td>\n",
              "      <td>Compactor, Dishwasher, Double Sink, Electric R...</td>\n",
              "      <td>1</td>\n",
              "      <td>Carpet, Ceramic Tile, Natural Stone, Wood</td>\n",
              "      <td>5900.0</td>\n",
              "    </tr>\n",
              "    <tr>\n",
              "      <th>2938</th>\n",
              "      <td>655000.0</td>\n",
              "      <td>85614</td>\n",
              "      <td>-110.971212</td>\n",
              "      <td>31.835114</td>\n",
              "      <td>1.50</td>\n",
              "      <td>6433.00</td>\n",
              "      <td>2001</td>\n",
              "      <td>3</td>\n",
              "      <td>4</td>\n",
              "      <td>3633.0</td>\n",
              "      <td>3</td>\n",
              "      <td>Dishwasher, Double Sink, Electric Range, Garba...</td>\n",
              "      <td>2</td>\n",
              "      <td>Carpet, Ceramic Tile</td>\n",
              "      <td>8333.0</td>\n",
              "    </tr>\n",
              "  </tbody>\n",
              "</table>\n",
              "</div>"
            ],
            "text/plain": [
              "      sold_price  zipcode  ...                             floor_covering      HOA\n",
              "14     3000000.0    85739  ...                        Natural Stone, Wood  20000.0\n",
              "53     2150000.0    85739  ...                        Natural Stone, Wood  20000.0\n",
              "257    1494392.0    85755  ...                      Carpet, Natural Stone  19480.0\n",
              "2860    606500.0    85629  ...  Carpet, Ceramic Tile, Natural Stone, Wood   5900.0\n",
              "2938    655000.0    85614  ...                       Carpet, Ceramic Tile   8333.0\n",
              "\n",
              "[5 rows x 15 columns]"
            ]
          },
          "metadata": {
            "tags": []
          },
          "execution_count": 83
        }
      ]
    },
    {
      "cell_type": "code",
      "metadata": {
        "id": "4hyqIEd4nrHT",
        "colab": {
          "base_uri": "https://localhost:8080/",
          "height": 265
        },
        "outputId": "e2c3ba69-f004-4e29-82fc-c11e5fbd05a0"
      },
      "source": [
        "#Detecting outliers in sq_ft\n",
        "plt.hist(df.sqrt_ft)\n",
        "plt.show()"
      ],
      "execution_count": null,
      "outputs": [
        {
          "output_type": "display_data",
          "data": {
            "image/png": "[encoded data removed]",
            "text/plain": [
              "<Figure size 432x288 with 1 Axes>"
            ]
          },
          "metadata": {
            "tags": [],
            "needs_background": "light"
          }
        }
      ]
    },
    {
      "cell_type": "code",
      "metadata": {
        "id": "0Z5RhfBHoMkn"
      },
      "source": [
        "#drop records with 0 sq ft\n",
        "df = df.drop(df[((df.sqrt_ft.astype(int)) == 0)].index)"
      ],
      "execution_count": null,
      "outputs": []
    },
    {
      "cell_type": "code",
      "metadata": {
        "colab": {
          "base_uri": "https://localhost:8080/"
        },
        "id": "d0RYv8l_Z2U8",
        "outputId": "efc145ae-ff1c-4361-bf77-05781c6e4523"
      },
      "source": [
        "#size of dataset\n",
        "df.shape"
      ],
      "execution_count": null,
      "outputs": [
        {
          "output_type": "execute_result",
          "data": {
            "text/plain": [
              "(4856, 15)"
            ]
          },
          "metadata": {
            "tags": []
          },
          "execution_count": 86
        }
      ]
    },
    {
      "cell_type": "code",
      "metadata": {
        "id": "6wBlBEYdoxGo",
        "colab": {
          "base_uri": "https://localhost:8080/",
          "height": 265
        },
        "outputId": "d1d0e6ac-34b2-4746-dd60-0be2379dfb6c"
      },
      "source": [
        "#Detecting outliers in longitude\n",
        "plt.hist(df.latitude)\n",
        "plt.show()"
      ],
      "execution_count": null,
      "outputs": [
        {
          "output_type": "display_data",
          "data": {
            "image/png": "[encoded data removed]",
            "text/plain": [
              "<Figure size 432x288 with 1 Axes>"
            ]
          },
          "metadata": {
            "tags": [],
            "needs_background": "light"
          }
        }
      ]
    },
    {
      "cell_type": "code",
      "metadata": {
        "id": "hQ_1AXEvJebZ",
        "colab": {
          "base_uri": "https://localhost:8080/",
          "height": 652
        },
        "outputId": "c176a223-f25d-462d-c534-7567120649ed"
      },
      "source": [
        "#Plotting the heatmap of correlation\n",
        "corr = df.corr()\n",
        "plt.figure(figsize=(10,10))\n",
        "sns.heatmap(corr, cbar=False, square=True, fmt = '.2%', annot=True, cmap='Greens')"
      ],
      "execution_count": null,
      "outputs": [
        {
          "output_type": "execute_result",
          "data": {
            "text/plain": [
              "<matplotlib.axes._subplots.AxesSubplot at 0x7f15182d2d10>"
            ]
          },
          "metadata": {
            "tags": []
          },
          "execution_count": 89
        },
        {
          "output_type": "display_data",
          "data": {
            "image/png": "[encoded data removed]",
            "text/plain": [
              "<Figure size 720x720 with 1 Axes>"
            ]
          },
          "metadata": {
            "tags": [],
            "needs_background": "light"
          }
        }
      ]
    },
    {
      "cell_type": "code",
      "metadata": {
        "id": "YpIGCRwjp38M"
      },
      "source": [
        "#Creating a subset with highly correlated features only\n",
        "\n",
        "df1 = df[['taxes', 'longitude', 'latitude', 'bathrooms', 'sqrt_ft', 'fireplaces']]"
      ],
      "execution_count": null,
      "outputs": []
    },
    {
      "cell_type": "markdown",
      "metadata": {
        "id": "0KziXIFHcT4B"
      },
      "source": [
        "**Tax Ranges** based on Geographical Location"
      ]
    },
    {
      "cell_type": "code",
      "metadata": {
        "colab": {
          "base_uri": "https://localhost:8080/",
          "height": 513
        },
        "id": "SovLppJrnBEl",
        "outputId": "85ecc0bc-755c-4038-9d68-46298846817c"
      },
      "source": [
        "#Creating ranges of latitude and longitude values to cluster coordinates into three groups each\n",
        "lowLat=df1['latitude'][df1['taxes']<=10000]\n",
        "lowLong=df1['longitude'][df1['taxes']<=10000]\n",
        "medLat=df1['latitude'][(df1['taxes']>10000)&(df1['taxes']<=20000)]\n",
        "medLong=df1['longitude'][(df1['taxes']>10000)&(df1['taxes']<=20000)]\n",
        "highLat=df1['latitude'][df1['taxes']>20000]\n",
        "highLong=df1['longitude'][df1['taxes']>20000]\n",
        "\n",
        "#Plotting the various coordinates from the dataset\n",
        "fig = plt.figure(figsize=(8,8))\n",
        "ax1 = fig.add_subplot(111)\n",
        "\n",
        "ax1.scatter(lowLong,lowLat, s=30, c='g', label='tax <= 10000')\n",
        "ax1.scatter(medLong,medLat, s=30, c='b', label='10000 < tax <= 20000')\n",
        "ax1.scatter(highLong,highLat, s=30, c='r', label='tax > 20000')\n",
        "\n",
        "plt.legend(loc='upper right');\n",
        "plt.title('Tax clusters based on Geographical Location')\n",
        "plt.xlabel('Longitude')\n",
        "plt.ylabel('Latitude')\n",
        "plt.show()\n"
      ],
      "execution_count": null,
      "outputs": [
        {
          "output_type": "display_data",
          "data": {
            "image/png": "[encoded data removed]",
            "text/plain": [
              "<Figure size 576x576 with 1 Axes>"
            ]
          },
          "metadata": {
            "tags": [],
            "needs_background": "light"
          }
        }
      ]
    },
    {
      "cell_type": "code",
      "metadata": {
        "id": "zKsA657A0hAj"
      },
      "source": [
        "#Normalizing the Data\n",
        "normalized_latitude = (df1.latitude-min(df1.latitude))/(max(df1.latitude)-min(df1.latitude))\n",
        "normalized_longitude = (df1.longitude-min(df1.longitude))/(max(df1.longitude)-min(df1.longitude))"
      ],
      "execution_count": null,
      "outputs": []
    },
    {
      "cell_type": "code",
      "metadata": {
        "id": "760vxPVEIoZL"
      },
      "source": [
        "#Creating a column for tax/sq_ft to create bin categories\n",
        "df1['tax/sq_ft'] = (df1['taxes'] / df1['sqrt_ft'])"
      ],
      "execution_count": null,
      "outputs": []
    },
    {
      "cell_type": "code",
      "metadata": {
        "id": "G3_Su_24M18k"
      },
      "source": [
        "#Categorizing the tax/sqft\n",
        "df1['ts_cat'] = (df1['tax/sq_ft']).astype(int)"
      ],
      "execution_count": null,
      "outputs": []
    },
    {
      "cell_type": "code",
      "metadata": {
        "id": "1OyrBUb4M-PY"
      },
      "source": [
        "#Removing outliers in tax category \n",
        "df1 = df1[(df1.ts_cat >= 1) & (df1.ts_cat <= 20) ]"
      ],
      "execution_count": null,
      "outputs": []
    },
    {
      "cell_type": "code",
      "metadata": {
        "id": "92FOelDnItlv"
      },
      "source": [
        "#Creating a subset for analysis with required columns only\n",
        "df1 = df1[['tax/sq_ft', 'ts_cat' , 'longitude', 'latitude', 'bathrooms', 'fireplaces']]"
      ],
      "execution_count": null,
      "outputs": []
    },
    {
      "cell_type": "markdown",
      "metadata": {
        "id": "WZnX7CUYXEav"
      },
      "source": [
        "###Data Splitting"
      ]
    },
    {
      "cell_type": "code",
      "metadata": {
        "id": "S6xUex0hFEfI"
      },
      "source": [
        "# Shuffle your dataset \n",
        "shuffle_df = df1.sample(frac=1)\n",
        "\n",
        "# Define a size for your train set \n",
        "train_size = int(0.8* len(df1))\n",
        "val_size = int(0.1* len(df1))\n",
        "test_size = int(0.1* len(df1))\n",
        "\n",
        "# Split your dataset \n",
        "train_df = shuffle_df[:train_size]\n",
        "val_df = shuffle_df[train_size:(train_size+val_size)]\n",
        "test_df = shuffle_df[(train_size+val_size):]"
      ],
      "execution_count": null,
      "outputs": []
    },
    {
      "cell_type": "code",
      "metadata": {
        "colab": {
          "base_uri": "https://localhost:8080/"
        },
        "id": "HYHY6l0ryFKi",
        "outputId": "f9c47d55-b0b5-426e-ace5-fa863f5d1b66"
      },
      "source": [
        "#size of training set\n",
        "train_df.shape"
      ],
      "execution_count": null,
      "outputs": [
        {
          "output_type": "execute_result",
          "data": {
            "text/plain": [
              "(3537, 6)"
            ]
          },
          "metadata": {
            "tags": []
          },
          "execution_count": 97
        }
      ]
    },
    {
      "cell_type": "code",
      "metadata": {
        "colab": {
          "base_uri": "https://localhost:8080/"
        },
        "id": "wglGOGC-yH6r",
        "outputId": "f7f56c86-83fb-4ea2-aa7a-045199c29fb9"
      },
      "source": [
        "#size of testing set\n",
        "test_df.shape"
      ],
      "execution_count": null,
      "outputs": [
        {
          "output_type": "execute_result",
          "data": {
            "text/plain": [
              "(443, 6)"
            ]
          },
          "metadata": {
            "tags": []
          },
          "execution_count": 98
        }
      ]
    },
    {
      "cell_type": "code",
      "metadata": {
        "colab": {
          "base_uri": "https://localhost:8080/"
        },
        "id": "vvKioZPryLDD",
        "outputId": "e34195c0-18ab-4817-c14e-e65b644f1904"
      },
      "source": [
        "#size of validation set\n",
        "val_df.shape"
      ],
      "execution_count": null,
      "outputs": [
        {
          "output_type": "execute_result",
          "data": {
            "text/plain": [
              "(442, 6)"
            ]
          },
          "metadata": {
            "tags": []
          },
          "execution_count": 99
        }
      ]
    },
    {
      "cell_type": "code",
      "metadata": {
        "id": "Lcj9dFXjzm9H"
      },
      "source": [
        "train_df = train_df[['ts_cat', 'tax/sq_ft' ,'longitude', 'latitude', 'bathrooms', 'fireplaces']]"
      ],
      "execution_count": null,
      "outputs": []
    },
    {
      "cell_type": "code",
      "metadata": {
        "id": "UmjlRNSnLOSR",
        "colab": {
          "base_uri": "https://localhost:8080/",
          "height": 418
        },
        "outputId": "b7b7c872-11cc-4aed-c12e-0a0f6fc1dc2f"
      },
      "source": [
        "train_df"
      ],
      "execution_count": null,
      "outputs": [
        {
          "output_type": "execute_result",
          "data": {
            "text/html": [
              "<div>\n",
              "<style scoped>\n",
              "    .dataframe tbody tr th:only-of-type {\n",
              "        vertical-align: middle;\n",
              "    }\n",
              "\n",
              "    .dataframe tbody tr th {\n",
              "        vertical-align: top;\n",
              "    }\n",
              "\n",
              "    .dataframe thead th {\n",
              "        text-align: right;\n",
              "    }\n",
              "</style>\n",
              "<table border=\"1\" class=\"dataframe\">\n",
              "  <thead>\n",
              "    <tr style=\"text-align: right;\">\n",
              "      <th></th>\n",
              "      <th>ts_cat</th>\n",
              "      <th>tax/sq_ft</th>\n",
              "      <th>longitude</th>\n",
              "      <th>latitude</th>\n",
              "      <th>bathrooms</th>\n",
              "      <th>fireplaces</th>\n",
              "    </tr>\n",
              "  </thead>\n",
              "  <tbody>\n",
              "    <tr>\n",
              "      <th>2723</th>\n",
              "      <td>2</td>\n",
              "      <td>2.124366</td>\n",
              "      <td>-110.991533</td>\n",
              "      <td>32.402096</td>\n",
              "      <td>4</td>\n",
              "      <td>1</td>\n",
              "    </tr>\n",
              "    <tr>\n",
              "      <th>2662</th>\n",
              "      <td>1</td>\n",
              "      <td>1.996536</td>\n",
              "      <td>-110.964501</td>\n",
              "      <td>32.404905</td>\n",
              "      <td>3</td>\n",
              "      <td>1</td>\n",
              "    </tr>\n",
              "    <tr>\n",
              "      <th>4710</th>\n",
              "      <td>1</td>\n",
              "      <td>1.383593</td>\n",
              "      <td>-110.869289</td>\n",
              "      <td>32.286358</td>\n",
              "      <td>3</td>\n",
              "      <td>2</td>\n",
              "    </tr>\n",
              "    <tr>\n",
              "      <th>4479</th>\n",
              "      <td>2</td>\n",
              "      <td>2.424846</td>\n",
              "      <td>-111.090181</td>\n",
              "      <td>32.314732</td>\n",
              "      <td>3</td>\n",
              "      <td>2</td>\n",
              "    </tr>\n",
              "    <tr>\n",
              "      <th>2046</th>\n",
              "      <td>1</td>\n",
              "      <td>1.909699</td>\n",
              "      <td>-110.924829</td>\n",
              "      <td>32.334024</td>\n",
              "      <td>4</td>\n",
              "      <td>3</td>\n",
              "    </tr>\n",
              "    <tr>\n",
              "      <th>...</th>\n",
              "      <td>...</td>\n",
              "      <td>...</td>\n",
              "      <td>...</td>\n",
              "      <td>...</td>\n",
              "      <td>...</td>\n",
              "      <td>...</td>\n",
              "    </tr>\n",
              "    <tr>\n",
              "      <th>3576</th>\n",
              "      <td>1</td>\n",
              "      <td>1.988081</td>\n",
              "      <td>-110.797520</td>\n",
              "      <td>32.252505</td>\n",
              "      <td>6</td>\n",
              "      <td>3</td>\n",
              "    </tr>\n",
              "    <tr>\n",
              "      <th>1563</th>\n",
              "      <td>2</td>\n",
              "      <td>2.452341</td>\n",
              "      <td>-110.947097</td>\n",
              "      <td>32.415886</td>\n",
              "      <td>3</td>\n",
              "      <td>3</td>\n",
              "    </tr>\n",
              "    <tr>\n",
              "      <th>1102</th>\n",
              "      <td>1</td>\n",
              "      <td>1.850012</td>\n",
              "      <td>-110.761894</td>\n",
              "      <td>32.300581</td>\n",
              "      <td>4</td>\n",
              "      <td>2</td>\n",
              "    </tr>\n",
              "    <tr>\n",
              "      <th>331</th>\n",
              "      <td>3</td>\n",
              "      <td>3.131415</td>\n",
              "      <td>-110.738810</td>\n",
              "      <td>32.271496</td>\n",
              "      <td>3</td>\n",
              "      <td>1</td>\n",
              "    </tr>\n",
              "    <tr>\n",
              "      <th>2549</th>\n",
              "      <td>2</td>\n",
              "      <td>2.630568</td>\n",
              "      <td>-110.986032</td>\n",
              "      <td>32.219062</td>\n",
              "      <td>3</td>\n",
              "      <td>1</td>\n",
              "    </tr>\n",
              "  </tbody>\n",
              "</table>\n",
              "<p>3537 rows × 6 columns</p>\n",
              "</div>"
            ],
            "text/plain": [
              "      ts_cat  tax/sq_ft   longitude   latitude  bathrooms  fireplaces\n",
              "2723       2   2.124366 -110.991533  32.402096          4           1\n",
              "2662       1   1.996536 -110.964501  32.404905          3           1\n",
              "4710       1   1.383593 -110.869289  32.286358          3           2\n",
              "4479       2   2.424846 -111.090181  32.314732          3           2\n",
              "2046       1   1.909699 -110.924829  32.334024          4           3\n",
              "...      ...        ...         ...        ...        ...         ...\n",
              "3576       1   1.988081 -110.797520  32.252505          6           3\n",
              "1563       2   2.452341 -110.947097  32.415886          3           3\n",
              "1102       1   1.850012 -110.761894  32.300581          4           2\n",
              "331        3   3.131415 -110.738810  32.271496          3           1\n",
              "2549       2   2.630568 -110.986032  32.219062          3           1\n",
              "\n",
              "[3537 rows x 6 columns]"
            ]
          },
          "metadata": {
            "tags": []
          },
          "execution_count": 101
        }
      ]
    },
    {
      "cell_type": "code",
      "metadata": {
        "id": "xaISFPtWtPHF"
      },
      "source": [
        "#Creating an array of X and y values to compute into models from the shuffled dataset\n",
        "\n",
        "X = (shuffle_df[['longitude', 'latitude']]).to_numpy()\n",
        "y = ((shuffle_df['ts_cat']).to_numpy())"
      ],
      "execution_count": null,
      "outputs": []
    },
    {
      "cell_type": "markdown",
      "metadata": {
        "id": "axbjm6XJXMyJ"
      },
      "source": [
        "##***MODELLING KNN CLASSIFICATION TO CLUSTER BASED ON GEOGRAPHICAL LOCATION***"
      ]
    },
    {
      "cell_type": "code",
      "metadata": {
        "id": "bDGG3aSjugUL"
      },
      "source": [
        "#Building a KNN model from scratch\n",
        "\n",
        "class KNNCLassifier():\n",
        "  def fit(self, X, y):\n",
        "    self.X = X\n",
        "    self.y = y\n",
        "  \n",
        "  def predict(self, X, K, epsilon = 1e-4):\n",
        "    N=len(X)\n",
        "    y_hat = np.zeros(N)\n",
        "\n",
        "    for i in range (N):\n",
        "      dist2 = np.sum((self.X-X[i])**2, axis=1)\n",
        "      idxt = np.argsort(dist2)[:K]\n",
        "      gamma_k = 1/(np.sqrt(dist2[idxt])+epsilon)\n",
        "      y_hat[i] = np.bincount(self.y[idxt], weights=gamma_k).argmax()\n",
        "    \n",
        "    return y_hat"
      ],
      "execution_count": null,
      "outputs": []
    },
    {
      "cell_type": "code",
      "metadata": {
        "id": "vaxxGin1uryx"
      },
      "source": [
        "#Fitting the model\n",
        "knn = KNNCLassifier()\n",
        "knn.fit(X,y)\n"
      ],
      "execution_count": null,
      "outputs": []
    },
    {
      "cell_type": "code",
      "metadata": {
        "id": "tYtbwsTzuwZb"
      },
      "source": [
        "#Predicting the fitted model\n",
        "y_hat = knn.predict(X, 50)"
      ],
      "execution_count": null,
      "outputs": []
    },
    {
      "cell_type": "code",
      "metadata": {
        "colab": {
          "base_uri": "https://localhost:8080/"
        },
        "id": "OsPBIq5nznJv",
        "outputId": "64ae4cab-93b0-470f-d014-2962cbe327ee"
      },
      "source": [
        "#Function to calculate accuracy\n",
        "def accuracy (y, y_hat):\n",
        "  return np.mean( y == y_hat)\n",
        "\n",
        "print(f\"Accuracy: {accuracy(y, y_hat):0.3f}\")"
      ],
      "execution_count": null,
      "outputs": [
        {
          "output_type": "stream",
          "text": [
            "Accuracy: 0.969\n"
          ],
          "name": "stdout"
        }
      ]
    },
    {
      "cell_type": "code",
      "metadata": {
        "colab": {
          "base_uri": "https://localhost:8080/",
          "height": 297
        },
        "id": "0C4JfRj-_ARp",
        "outputId": "a280210e-abb7-477a-b5d5-f6a5061955be"
      },
      "source": [
        "#Plotting a confusion matrix of the actual and predicted values\n",
        "plt.figure()\n",
        "actual = pd.Series(y, name=\"Actual\")\n",
        "predicted = pd.Series(y_hat, name=\"Predicted\")\n",
        "\n",
        "confusion_matrix = pd.crosstab(actual, predicted)\n",
        "ap_matrix = sns.heatmap(confusion_matrix, annot=True, fmt=\"d\")\n",
        "\n",
        "plt.ylabel(\"Actual Label\")\n",
        "plt.xlabel(\"Predicted Label\")"
      ],
      "execution_count": null,
      "outputs": [
        {
          "output_type": "execute_result",
          "data": {
            "text/plain": [
              "Text(0.5, 15.0, 'Predicted Label')"
            ]
          },
          "metadata": {
            "tags": []
          },
          "execution_count": 107
        },
        {
          "output_type": "display_data",
          "data": {
            "image/png": "[encoded data removed]",
            "text/plain": [
              "<Figure size 432x288 with 2 Axes>"
            ]
          },
          "metadata": {
            "tags": [],
            "needs_background": "light"
          }
        }
      ]
    },
    {
      "cell_type": "code",
      "metadata": {
        "id": "uRHJ3_47Ari8"
      },
      "source": [
        "#Creating a subset with the bin category column only from the predicted set\n",
        "bc_df = pd.DataFrame(y_hat, columns=['bin_cat']) "
      ],
      "execution_count": null,
      "outputs": []
    },
    {
      "cell_type": "code",
      "metadata": {
        "id": "a3JGbNDNHMSj"
      },
      "source": [
        "#Creating a subset of required columns from the training set\n",
        "r_df = (train_df[['tax/sq_ft','bathrooms', 'fireplaces']])"
      ],
      "execution_count": null,
      "outputs": []
    },
    {
      "cell_type": "code",
      "metadata": {
        "id": "ePyFgty3Hz5j",
        "colab": {
          "base_uri": "https://localhost:8080/"
        },
        "outputId": "c3d250fb-31fa-4cb4-87f2-d12daf4310d3"
      },
      "source": [
        "#Mapping the relevant value from the bc_df dataset into the r_df dataset\n",
        "r_df['bin_cat'] = bc_df.loc[:3536, 'bin_cat'].values"
      ],
      "execution_count": null,
      "outputs": [
        {
          "output_type": "stream",
          "text": [
            "/usr/local/lib/python3.7/dist-packages/ipykernel_launcher.py:1: SettingWithCopyWarning: \n",
            "A value is trying to be set on a copy of a slice from a DataFrame.\n",
            "Try using .loc[row_indexer,col_indexer] = value instead\n",
            "\n",
            "See the caveats in the documentation: https://pandas.pydata.org/pandas-docs/stable/user_guide/indexing.html#returning-a-view-versus-a-copy\n",
            "  \"\"\"Entry point for launching an IPython kernel.\n"
          ],
          "name": "stderr"
        }
      ]
    },
    {
      "cell_type": "code",
      "metadata": {
        "id": "9OC9htYcMGUs",
        "colab": {
          "base_uri": "https://localhost:8080/",
          "height": 418
        },
        "outputId": "abbc79f0-feea-4d1c-ce9a-ede5158a01e6"
      },
      "source": [
        "r_df"
      ],
      "execution_count": null,
      "outputs": [
        {
          "output_type": "execute_result",
          "data": {
            "text/html": [
              "<div>\n",
              "<style scoped>\n",
              "    .dataframe tbody tr th:only-of-type {\n",
              "        vertical-align: middle;\n",
              "    }\n",
              "\n",
              "    .dataframe tbody tr th {\n",
              "        vertical-align: top;\n",
              "    }\n",
              "\n",
              "    .dataframe thead th {\n",
              "        text-align: right;\n",
              "    }\n",
              "</style>\n",
              "<table border=\"1\" class=\"dataframe\">\n",
              "  <thead>\n",
              "    <tr style=\"text-align: right;\">\n",
              "      <th></th>\n",
              "      <th>tax/sq_ft</th>\n",
              "      <th>bathrooms</th>\n",
              "      <th>fireplaces</th>\n",
              "      <th>bin_cat</th>\n",
              "    </tr>\n",
              "  </thead>\n",
              "  <tbody>\n",
              "    <tr>\n",
              "      <th>2723</th>\n",
              "      <td>2.124366</td>\n",
              "      <td>4</td>\n",
              "      <td>1</td>\n",
              "      <td>2.0</td>\n",
              "    </tr>\n",
              "    <tr>\n",
              "      <th>2662</th>\n",
              "      <td>1.996536</td>\n",
              "      <td>3</td>\n",
              "      <td>1</td>\n",
              "      <td>1.0</td>\n",
              "    </tr>\n",
              "    <tr>\n",
              "      <th>4710</th>\n",
              "      <td>1.383593</td>\n",
              "      <td>3</td>\n",
              "      <td>2</td>\n",
              "      <td>1.0</td>\n",
              "    </tr>\n",
              "    <tr>\n",
              "      <th>4479</th>\n",
              "      <td>2.424846</td>\n",
              "      <td>3</td>\n",
              "      <td>2</td>\n",
              "      <td>2.0</td>\n",
              "    </tr>\n",
              "    <tr>\n",
              "      <th>2046</th>\n",
              "      <td>1.909699</td>\n",
              "      <td>4</td>\n",
              "      <td>3</td>\n",
              "      <td>1.0</td>\n",
              "    </tr>\n",
              "    <tr>\n",
              "      <th>...</th>\n",
              "      <td>...</td>\n",
              "      <td>...</td>\n",
              "      <td>...</td>\n",
              "      <td>...</td>\n",
              "    </tr>\n",
              "    <tr>\n",
              "      <th>3576</th>\n",
              "      <td>1.988081</td>\n",
              "      <td>6</td>\n",
              "      <td>3</td>\n",
              "      <td>1.0</td>\n",
              "    </tr>\n",
              "    <tr>\n",
              "      <th>1563</th>\n",
              "      <td>2.452341</td>\n",
              "      <td>3</td>\n",
              "      <td>3</td>\n",
              "      <td>2.0</td>\n",
              "    </tr>\n",
              "    <tr>\n",
              "      <th>1102</th>\n",
              "      <td>1.850012</td>\n",
              "      <td>4</td>\n",
              "      <td>2</td>\n",
              "      <td>1.0</td>\n",
              "    </tr>\n",
              "    <tr>\n",
              "      <th>331</th>\n",
              "      <td>3.131415</td>\n",
              "      <td>3</td>\n",
              "      <td>1</td>\n",
              "      <td>3.0</td>\n",
              "    </tr>\n",
              "    <tr>\n",
              "      <th>2549</th>\n",
              "      <td>2.630568</td>\n",
              "      <td>3</td>\n",
              "      <td>1</td>\n",
              "      <td>2.0</td>\n",
              "    </tr>\n",
              "  </tbody>\n",
              "</table>\n",
              "<p>3537 rows × 4 columns</p>\n",
              "</div>"
            ],
            "text/plain": [
              "      tax/sq_ft  bathrooms  fireplaces  bin_cat\n",
              "2723   2.124366          4           1      2.0\n",
              "2662   1.996536          3           1      1.0\n",
              "4710   1.383593          3           2      1.0\n",
              "4479   2.424846          3           2      2.0\n",
              "2046   1.909699          4           3      1.0\n",
              "...         ...        ...         ...      ...\n",
              "3576   1.988081          6           3      1.0\n",
              "1563   2.452341          3           3      2.0\n",
              "1102   1.850012          4           2      1.0\n",
              "331    3.131415          3           1      3.0\n",
              "2549   2.630568          3           1      2.0\n",
              "\n",
              "[3537 rows x 4 columns]"
            ]
          },
          "metadata": {
            "tags": []
          },
          "execution_count": 111
        }
      ]
    },
    {
      "cell_type": "markdown",
      "metadata": {
        "id": "X-FId84sdRow"
      },
      "source": [
        "##***MODELLING LINEAR REGRESSION FOR PREDICTION USING FACTORS***"
      ]
    },
    {
      "cell_type": "code",
      "metadata": {
        "id": "Fa0QjZS7FwA_"
      },
      "source": [
        "#Creating x and y variables from the r_df dataset for prediction\n",
        "X = r_df[['bin_cat','bathrooms','fireplaces']]\n",
        "y = r_df['tax/sq_ft']"
      ],
      "execution_count": null,
      "outputs": []
    },
    {
      "cell_type": "code",
      "metadata": {
        "id": "D2M9yXt6OlxX"
      },
      "source": [
        "#Building a function for OLS REGRESSION WITH GRADIENT DESCENT and for computing R-squared value from scratch\n",
        "\n",
        "def OLS(Y, Y_hat, N):\n",
        "  return (1/(2*N)*np.sum((Y-Y_hat)**2))\n",
        "\n",
        "def R2(Y, Y_hat):\n",
        "  return (1-(np.sum((Y-Y_hat)**2)/np.sum((Y-np.mean(Y))**2)))"
      ],
      "execution_count": null,
      "outputs": []
    },
    {
      "cell_type": "code",
      "metadata": {
        "id": "rcqpTLRBOXAy"
      },
      "source": [
        "#Building a Regression model from scratch\n",
        "class OURLinearRegression():\n",
        "  def fit(self, X, y, epochs=1e3, eta=1e-3, show_curve = False, lambd=0, p=1):\n",
        "\n",
        "    epochs=int(epochs)\n",
        "    \n",
        "    N,D = X.shape\n",
        "    Y = y\n",
        "    self.W = np.random.randn(D)\n",
        "    J = np.zeros(epochs)\n",
        "\n",
        "    for epoch in range(epochs):\n",
        "      Y_hat = self.predict(X)\n",
        "      J[epoch]=OLS(Y,Y_hat,N)+(lambd/(p*N))*np.linalg.norm(self.W, ord=p, keepdims=True)\n",
        "      self.W -= eta*(1/N)*(X.T@(Y_hat-Y)+(1/N)*(lambd*np.abs(self.W)**(p-1)*np.sign(self.W)))\n",
        "\n",
        "    if show_curve:\n",
        "      plt.figure()\n",
        "      plt.plot(J)\n",
        "      plt.xlabel('epochs')\n",
        "      plt.ylabel(\"$\\matchcal{J}\")\n",
        "      plt.title(\"Training Curve\")\n",
        "      plt.show()\n",
        "  \n",
        "  def predict(self,X):\n",
        "    return X@self.W"
      ],
      "execution_count": null,
      "outputs": []
    },
    {
      "cell_type": "code",
      "metadata": {
        "id": "I3RrjnrXObVw"
      },
      "source": [
        "myReg = OURLinearRegression()"
      ],
      "execution_count": null,
      "outputs": []
    },
    {
      "cell_type": "code",
      "metadata": {
        "colab": {
          "base_uri": "https://localhost:8080/",
          "height": 295
        },
        "id": "eWAcpFOQOfuN",
        "outputId": "b4e91e4a-fa0c-41bd-8d74-156a1b2f6652"
      },
      "source": [
        "#Fitting the regression model\n",
        "myReg.fit(X,y,epochs=2e4, eta=1e-2,show_curve=True)"
      ],
      "execution_count": null,
      "outputs": [
        {
          "output_type": "display_data",
          "data": {
            "image/png": "[encoded data removed]",
            "text/plain": [
              "<Figure size 432x288 with 1 Axes>"
            ]
          },
          "metadata": {
            "tags": [],
            "needs_background": "light"
          }
        }
      ]
    },
    {
      "cell_type": "code",
      "metadata": {
        "id": "Y9a7vhWLtg2V"
      },
      "source": [
        "#Predicting the fitted model\n",
        "y_hat3 = myReg.predict(X)"
      ],
      "execution_count": null,
      "outputs": []
    },
    {
      "cell_type": "code",
      "metadata": {
        "id": "B374N20ltMeI",
        "colab": {
          "base_uri": "https://localhost:8080/"
        },
        "outputId": "87ccddec-4ee3-4794-b7b6-cc332a326b61"
      },
      "source": [
        "#Calculating the R-squared value\n",
        "R2(y, y_hat3)"
      ],
      "execution_count": null,
      "outputs": [
        {
          "output_type": "execute_result",
          "data": {
            "text/plain": [
              "0.7286437485235834"
            ]
          },
          "metadata": {
            "tags": []
          },
          "execution_count": 124
        }
      ]
    },
    {
      "cell_type": "markdown",
      "metadata": {
        "id": "uQVssBSiNvB0"
      },
      "source": [
        "### Validation"
      ]
    },
    {
      "cell_type": "code",
      "metadata": {
        "id": "X-i8-d0kOaFk"
      },
      "source": [
        "r_df_val = (val_df[['tax/sq_ft','bathrooms', 'fireplaces']])"
      ],
      "execution_count": null,
      "outputs": []
    },
    {
      "cell_type": "code",
      "metadata": {
        "id": "4G23-3VAOaFk",
        "colab": {
          "base_uri": "https://localhost:8080/"
        },
        "outputId": "7bbe6a06-362f-413b-d8f5-ee68094557ce"
      },
      "source": [
        "r_df_val['bin_cat'] = bc_df.loc[3537:3978,'bin_cat'].values"
      ],
      "execution_count": null,
      "outputs": [
        {
          "output_type": "stream",
          "text": [
            "/usr/local/lib/python3.7/dist-packages/ipykernel_launcher.py:1: SettingWithCopyWarning: \n",
            "A value is trying to be set on a copy of a slice from a DataFrame.\n",
            "Try using .loc[row_indexer,col_indexer] = value instead\n",
            "\n",
            "See the caveats in the documentation: https://pandas.pydata.org/pandas-docs/stable/user_guide/indexing.html#returning-a-view-versus-a-copy\n",
            "  \"\"\"Entry point for launching an IPython kernel.\n"
          ],
          "name": "stderr"
        }
      ]
    },
    {
      "cell_type": "code",
      "metadata": {
        "id": "v8E-MGrUOneN"
      },
      "source": [
        "X_val = r_df_val[['bin_cat', 'bathrooms', 'fireplaces']]\n",
        "y_val = r_df_val['tax/sq_ft']"
      ],
      "execution_count": null,
      "outputs": []
    },
    {
      "cell_type": "code",
      "metadata": {
        "id": "ORaIk9Nztrrq"
      },
      "source": [
        "y_hat_r_val = myReg.predict(X_val)"
      ],
      "execution_count": null,
      "outputs": []
    },
    {
      "cell_type": "code",
      "metadata": {
        "id": "2iQmmUyEt4e9",
        "colab": {
          "base_uri": "https://localhost:8080/"
        },
        "outputId": "7733fe5e-596e-45c2-cbf8-ae25b6fa7fc4"
      },
      "source": [
        "R2(y_val, y_hat_r_val)"
      ],
      "execution_count": null,
      "outputs": [
        {
          "output_type": "execute_result",
          "data": {
            "text/plain": [
              "0.6582228966141195"
            ]
          },
          "metadata": {
            "tags": []
          },
          "execution_count": 129
        }
      ]
    },
    {
      "cell_type": "markdown",
      "metadata": {
        "id": "AkzGffvo1R0b"
      },
      "source": [
        "###Test"
      ]
    },
    {
      "cell_type": "code",
      "metadata": {
        "id": "2TkC29W91fA3"
      },
      "source": [
        "r_df_test = (test_df[['tax/sq_ft','bathrooms', 'fireplaces']])"
      ],
      "execution_count": null,
      "outputs": []
    },
    {
      "cell_type": "code",
      "metadata": {
        "id": "KiForOGL1fA3",
        "colab": {
          "base_uri": "https://localhost:8080/"
        },
        "outputId": "c8ce559d-5499-4686-f181-0f805fc87c42"
      },
      "source": [
        "r_df_test['bin_cat'] = bc_df.loc[3979:4421, 'bin_cat'].values"
      ],
      "execution_count": null,
      "outputs": [
        {
          "output_type": "stream",
          "text": [
            "/usr/local/lib/python3.7/dist-packages/ipykernel_launcher.py:1: SettingWithCopyWarning: \n",
            "A value is trying to be set on a copy of a slice from a DataFrame.\n",
            "Try using .loc[row_indexer,col_indexer] = value instead\n",
            "\n",
            "See the caveats in the documentation: https://pandas.pydata.org/pandas-docs/stable/user_guide/indexing.html#returning-a-view-versus-a-copy\n",
            "  \"\"\"Entry point for launching an IPython kernel.\n"
          ],
          "name": "stderr"
        }
      ]
    },
    {
      "cell_type": "code",
      "metadata": {
        "id": "P4dyt5YK1fA3"
      },
      "source": [
        "X_test = r_df_test[['bin_cat', 'bathrooms', 'fireplaces']]\n",
        "y_test = r_df_test['tax/sq_ft']"
      ],
      "execution_count": null,
      "outputs": []
    },
    {
      "cell_type": "code",
      "metadata": {
        "id": "1lw-kiVq1fA4"
      },
      "source": [
        "y_hat_r_test = myReg.predict(X_test)"
      ],
      "execution_count": null,
      "outputs": []
    },
    {
      "cell_type": "code",
      "metadata": {
        "id": "FzxoAQEf1fA4",
        "colab": {
          "base_uri": "https://localhost:8080/"
        },
        "outputId": "40198680-21b6-4299-9fa6-4c03ea074b98"
      },
      "source": [
        "R2(y_test, y_hat_r_test)"
      ],
      "execution_count": null,
      "outputs": [
        {
          "output_type": "execute_result",
          "data": {
            "text/plain": [
              "0.701193175214647"
            ]
          },
          "metadata": {
            "tags": []
          },
          "execution_count": 134
        }
      ]
    },
    {
      "cell_type": "markdown",
      "metadata": {
        "id": "FBBFs0RFiBkH"
      },
      "source": [
        "##**DATA POINT TESTING**"
      ]
    },
    {
      "cell_type": "code",
      "metadata": {
        "id": "TzA3QZgbFr2Z"
      },
      "source": [
        "#Data points that can be changed accordingly\n",
        "longitude = -112.201640\n",
        "latitude = 33.704060\n",
        "sq_ft = 2947\n",
        "bathroom = 3\n",
        "fireplace = 1\n"
      ],
      "execution_count": null,
      "outputs": []
    },
    {
      "cell_type": "code",
      "metadata": {
        "id": "s8_OX8_oFzzk"
      },
      "source": [
        "X = (longitude, latitude)"
      ],
      "execution_count": null,
      "outputs": []
    },
    {
      "cell_type": "code",
      "metadata": {
        "id": "aZJPq1xTFsDX"
      },
      "source": [
        "y_hat = knn.predict(X, 50)"
      ],
      "execution_count": null,
      "outputs": []
    },
    {
      "cell_type": "code",
      "metadata": {
        "colab": {
          "base_uri": "https://localhost:8080/"
        },
        "id": "eUDbopFiHmCZ",
        "outputId": "c3a3a58d-68d8-402c-dba7-e522500082e2"
      },
      "source": [
        "y_hat"
      ],
      "execution_count": null,
      "outputs": [
        {
          "output_type": "execute_result",
          "data": {
            "text/plain": [
              "array([1., 1.])"
            ]
          },
          "metadata": {
            "tags": []
          },
          "execution_count": 138
        }
      ]
    },
    {
      "cell_type": "code",
      "metadata": {
        "id": "pVhWD-5xFsSW"
      },
      "source": [
        "X_test = (y_hat, bathroom, fireplace)\n"
      ],
      "execution_count": null,
      "outputs": []
    },
    {
      "cell_type": "code",
      "metadata": {
        "id": "P1tAMYbzFsSX",
        "colab": {
          "base_uri": "https://localhost:8080/"
        },
        "outputId": "175a6915-8557-4198-dc0b-fb3e4aa140dd"
      },
      "source": [
        "y_hat_r_test = myReg.predict(X_test)"
      ],
      "execution_count": null,
      "outputs": [
        {
          "output_type": "stream",
          "text": [
            "/usr/local/lib/python3.7/dist-packages/numpy/core/_asarray.py:83: VisibleDeprecationWarning: Creating an ndarray from ragged nested sequences (which is a list-or-tuple of lists-or-tuples-or ndarrays with different lengths or shapes) is deprecated. If you meant to do this, you must specify 'dtype=object' when creating the ndarray\n",
            "  return array(a, dtype, copy=False, order=order)\n"
          ],
          "name": "stderr"
        }
      ]
    },
    {
      "cell_type": "code",
      "metadata": {
        "id": "RGyLX62wHGDh",
        "colab": {
          "base_uri": "https://localhost:8080/"
        },
        "outputId": "9218361b-0380-481e-c64b-8be98dad30ed"
      },
      "source": [
        "y_hat_r_test"
      ],
      "execution_count": null,
      "outputs": [
        {
          "output_type": "execute_result",
          "data": {
            "text/plain": [
              "array([1.34521247, 1.34521247])"
            ]
          },
          "metadata": {
            "tags": []
          },
          "execution_count": 141
        }
      ]
    },
    {
      "cell_type": "code",
      "metadata": {
        "colab": {
          "base_uri": "https://localhost:8080/"
        },
        "id": "krBHJFqxHLjz",
        "outputId": "2cb6c77c-c8ce-458b-f744-b44ec8400959"
      },
      "source": [
        "#Calculating the tax for the given data points\n",
        "tax = y_hat_r_test[0] * sq_ft\n",
        "tax"
      ],
      "execution_count": null,
      "outputs": [
        {
          "output_type": "execute_result",
          "data": {
            "text/plain": [
              "3964.34113495903"
            ]
          },
          "metadata": {
            "tags": []
          },
          "execution_count": 142
        }
      ]
    }
  ]
}